{
 "cells": [
  {
   "cell_type": "markdown",
   "metadata": {},
   "source": [
    "Data Preprocessing"
   ]
  },
  {
   "cell_type": "code",
   "execution_count": 4,
   "metadata": {},
   "outputs": [],
   "source": [
    "import pandas as pd\n",
    "import numpy as np\n",
    "import ast"
   ]
  },
  {
   "cell_type": "code",
   "execution_count": 6,
   "metadata": {},
   "outputs": [
    {
     "data": {
      "text/html": [
       "<div>\n",
       "<style scoped>\n",
       "    .dataframe tbody tr th:only-of-type {\n",
       "        vertical-align: middle;\n",
       "    }\n",
       "\n",
       "    .dataframe tbody tr th {\n",
       "        vertical-align: top;\n",
       "    }\n",
       "\n",
       "    .dataframe thead th {\n",
       "        text-align: right;\n",
       "    }\n",
       "</style>\n",
       "<table border=\"1\" class=\"dataframe\">\n",
       "  <thead>\n",
       "    <tr style=\"text-align: right;\">\n",
       "      <th></th>\n",
       "      <th>user_id</th>\n",
       "      <th>recipe_id</th>\n",
       "      <th>date</th>\n",
       "      <th>rating</th>\n",
       "      <th>review</th>\n",
       "    </tr>\n",
       "  </thead>\n",
       "  <tbody>\n",
       "    <tr>\n",
       "      <th>0</th>\n",
       "      <td>38094</td>\n",
       "      <td>40893</td>\n",
       "      <td>2003-02-17</td>\n",
       "      <td>4</td>\n",
       "      <td>Great with a salad. Cooked on top of stove for...</td>\n",
       "    </tr>\n",
       "    <tr>\n",
       "      <th>1</th>\n",
       "      <td>1293707</td>\n",
       "      <td>40893</td>\n",
       "      <td>2011-12-21</td>\n",
       "      <td>5</td>\n",
       "      <td>So simple, so delicious! Great for chilly fall...</td>\n",
       "    </tr>\n",
       "    <tr>\n",
       "      <th>2</th>\n",
       "      <td>8937</td>\n",
       "      <td>44394</td>\n",
       "      <td>2002-12-01</td>\n",
       "      <td>4</td>\n",
       "      <td>This worked very well and is EASY.  I used not...</td>\n",
       "    </tr>\n",
       "    <tr>\n",
       "      <th>3</th>\n",
       "      <td>126440</td>\n",
       "      <td>85009</td>\n",
       "      <td>2010-02-27</td>\n",
       "      <td>5</td>\n",
       "      <td>I made the Mexican topping and took it to bunk...</td>\n",
       "    </tr>\n",
       "    <tr>\n",
       "      <th>4</th>\n",
       "      <td>57222</td>\n",
       "      <td>85009</td>\n",
       "      <td>2011-10-01</td>\n",
       "      <td>5</td>\n",
       "      <td>Made the cheddar bacon topping, adding a sprin...</td>\n",
       "    </tr>\n",
       "  </tbody>\n",
       "</table>\n",
       "</div>"
      ],
      "text/plain": [
       "   user_id  recipe_id        date  rating  \\\n",
       "0    38094      40893  2003-02-17       4   \n",
       "1  1293707      40893  2011-12-21       5   \n",
       "2     8937      44394  2002-12-01       4   \n",
       "3   126440      85009  2010-02-27       5   \n",
       "4    57222      85009  2011-10-01       5   \n",
       "\n",
       "                                              review  \n",
       "0  Great with a salad. Cooked on top of stove for...  \n",
       "1  So simple, so delicious! Great for chilly fall...  \n",
       "2  This worked very well and is EASY.  I used not...  \n",
       "3  I made the Mexican topping and took it to bunk...  \n",
       "4  Made the cheddar bacon topping, adding a sprin...  "
      ]
     },
     "execution_count": 6,
     "metadata": {},
     "output_type": "execute_result"
    }
   ],
   "source": [
    "user_interaction = pd.read_csv('data/RAW_interactions.csv')\n",
    "user_interaction.head()"
   ]
  },
  {
   "cell_type": "code",
   "execution_count": 7,
   "metadata": {},
   "outputs": [
    {
     "data": {
      "text/html": [
       "<div>\n",
       "<style scoped>\n",
       "    .dataframe tbody tr th:only-of-type {\n",
       "        vertical-align: middle;\n",
       "    }\n",
       "\n",
       "    .dataframe tbody tr th {\n",
       "        vertical-align: top;\n",
       "    }\n",
       "\n",
       "    .dataframe thead th {\n",
       "        text-align: right;\n",
       "    }\n",
       "</style>\n",
       "<table border=\"1\" class=\"dataframe\">\n",
       "  <thead>\n",
       "    <tr style=\"text-align: right;\">\n",
       "      <th></th>\n",
       "      <th>name</th>\n",
       "      <th>id</th>\n",
       "      <th>minutes</th>\n",
       "      <th>contributor_id</th>\n",
       "      <th>submitted</th>\n",
       "      <th>tags</th>\n",
       "      <th>nutrition</th>\n",
       "      <th>n_steps</th>\n",
       "      <th>steps</th>\n",
       "      <th>description</th>\n",
       "      <th>ingredients</th>\n",
       "      <th>n_ingredients</th>\n",
       "    </tr>\n",
       "  </thead>\n",
       "  <tbody>\n",
       "    <tr>\n",
       "      <th>0</th>\n",
       "      <td>arriba   baked winter squash mexican style</td>\n",
       "      <td>137739</td>\n",
       "      <td>55</td>\n",
       "      <td>47892</td>\n",
       "      <td>2005-09-16</td>\n",
       "      <td>['60-minutes-or-less', 'time-to-make', 'course...</td>\n",
       "      <td>[51.5, 0.0, 13.0, 0.0, 2.0, 0.0, 4.0]</td>\n",
       "      <td>11</td>\n",
       "      <td>['make a choice and proceed with recipe', 'dep...</td>\n",
       "      <td>autumn is my favorite time of year to cook! th...</td>\n",
       "      <td>['winter squash', 'mexican seasoning', 'mixed ...</td>\n",
       "      <td>7</td>\n",
       "    </tr>\n",
       "    <tr>\n",
       "      <th>1</th>\n",
       "      <td>a bit different  breakfast pizza</td>\n",
       "      <td>31490</td>\n",
       "      <td>30</td>\n",
       "      <td>26278</td>\n",
       "      <td>2002-06-17</td>\n",
       "      <td>['30-minutes-or-less', 'time-to-make', 'course...</td>\n",
       "      <td>[173.4, 18.0, 0.0, 17.0, 22.0, 35.0, 1.0]</td>\n",
       "      <td>9</td>\n",
       "      <td>['preheat oven to 425 degrees f', 'press dough...</td>\n",
       "      <td>this recipe calls for the crust to be prebaked...</td>\n",
       "      <td>['prepared pizza crust', 'sausage patty', 'egg...</td>\n",
       "      <td>6</td>\n",
       "    </tr>\n",
       "    <tr>\n",
       "      <th>2</th>\n",
       "      <td>all in the kitchen  chili</td>\n",
       "      <td>112140</td>\n",
       "      <td>130</td>\n",
       "      <td>196586</td>\n",
       "      <td>2005-02-25</td>\n",
       "      <td>['time-to-make', 'course', 'preparation', 'mai...</td>\n",
       "      <td>[269.8, 22.0, 32.0, 48.0, 39.0, 27.0, 5.0]</td>\n",
       "      <td>6</td>\n",
       "      <td>['brown ground beef in large pot', 'add choppe...</td>\n",
       "      <td>this modified version of 'mom's' chili was a h...</td>\n",
       "      <td>['ground beef', 'yellow onions', 'diced tomato...</td>\n",
       "      <td>13</td>\n",
       "    </tr>\n",
       "    <tr>\n",
       "      <th>3</th>\n",
       "      <td>alouette  potatoes</td>\n",
       "      <td>59389</td>\n",
       "      <td>45</td>\n",
       "      <td>68585</td>\n",
       "      <td>2003-04-14</td>\n",
       "      <td>['60-minutes-or-less', 'time-to-make', 'course...</td>\n",
       "      <td>[368.1, 17.0, 10.0, 2.0, 14.0, 8.0, 20.0]</td>\n",
       "      <td>11</td>\n",
       "      <td>['place potatoes in a large pot of lightly sal...</td>\n",
       "      <td>this is a super easy, great tasting, make ahea...</td>\n",
       "      <td>['spreadable cheese with garlic and herbs', 'n...</td>\n",
       "      <td>11</td>\n",
       "    </tr>\n",
       "    <tr>\n",
       "      <th>4</th>\n",
       "      <td>amish  tomato ketchup  for canning</td>\n",
       "      <td>44061</td>\n",
       "      <td>190</td>\n",
       "      <td>41706</td>\n",
       "      <td>2002-10-25</td>\n",
       "      <td>['weeknight', 'time-to-make', 'course', 'main-...</td>\n",
       "      <td>[352.9, 1.0, 337.0, 23.0, 3.0, 0.0, 28.0]</td>\n",
       "      <td>5</td>\n",
       "      <td>['mix all ingredients&amp; boil for 2 1 / 2 hours ...</td>\n",
       "      <td>my dh's amish mother raised him on this recipe...</td>\n",
       "      <td>['tomato juice', 'apple cider vinegar', 'sugar...</td>\n",
       "      <td>8</td>\n",
       "    </tr>\n",
       "  </tbody>\n",
       "</table>\n",
       "</div>"
      ],
      "text/plain": [
       "                                         name      id  minutes  \\\n",
       "0  arriba   baked winter squash mexican style  137739       55   \n",
       "1            a bit different  breakfast pizza   31490       30   \n",
       "2                   all in the kitchen  chili  112140      130   \n",
       "3                          alouette  potatoes   59389       45   \n",
       "4          amish  tomato ketchup  for canning   44061      190   \n",
       "\n",
       "   contributor_id   submitted  \\\n",
       "0           47892  2005-09-16   \n",
       "1           26278  2002-06-17   \n",
       "2          196586  2005-02-25   \n",
       "3           68585  2003-04-14   \n",
       "4           41706  2002-10-25   \n",
       "\n",
       "                                                tags  \\\n",
       "0  ['60-minutes-or-less', 'time-to-make', 'course...   \n",
       "1  ['30-minutes-or-less', 'time-to-make', 'course...   \n",
       "2  ['time-to-make', 'course', 'preparation', 'mai...   \n",
       "3  ['60-minutes-or-less', 'time-to-make', 'course...   \n",
       "4  ['weeknight', 'time-to-make', 'course', 'main-...   \n",
       "\n",
       "                                    nutrition  n_steps  \\\n",
       "0       [51.5, 0.0, 13.0, 0.0, 2.0, 0.0, 4.0]       11   \n",
       "1   [173.4, 18.0, 0.0, 17.0, 22.0, 35.0, 1.0]        9   \n",
       "2  [269.8, 22.0, 32.0, 48.0, 39.0, 27.0, 5.0]        6   \n",
       "3   [368.1, 17.0, 10.0, 2.0, 14.0, 8.0, 20.0]       11   \n",
       "4   [352.9, 1.0, 337.0, 23.0, 3.0, 0.0, 28.0]        5   \n",
       "\n",
       "                                               steps  \\\n",
       "0  ['make a choice and proceed with recipe', 'dep...   \n",
       "1  ['preheat oven to 425 degrees f', 'press dough...   \n",
       "2  ['brown ground beef in large pot', 'add choppe...   \n",
       "3  ['place potatoes in a large pot of lightly sal...   \n",
       "4  ['mix all ingredients& boil for 2 1 / 2 hours ...   \n",
       "\n",
       "                                         description  \\\n",
       "0  autumn is my favorite time of year to cook! th...   \n",
       "1  this recipe calls for the crust to be prebaked...   \n",
       "2  this modified version of 'mom's' chili was a h...   \n",
       "3  this is a super easy, great tasting, make ahea...   \n",
       "4  my dh's amish mother raised him on this recipe...   \n",
       "\n",
       "                                         ingredients  n_ingredients  \n",
       "0  ['winter squash', 'mexican seasoning', 'mixed ...              7  \n",
       "1  ['prepared pizza crust', 'sausage patty', 'egg...              6  \n",
       "2  ['ground beef', 'yellow onions', 'diced tomato...             13  \n",
       "3  ['spreadable cheese with garlic and herbs', 'n...             11  \n",
       "4  ['tomato juice', 'apple cider vinegar', 'sugar...              8  "
      ]
     },
     "execution_count": 7,
     "metadata": {},
     "output_type": "execute_result"
    }
   ],
   "source": [
    "#Load data \n",
    "recipes = pd.read_csv('data/RAW_recipes.csv')\n",
    "recipes.head()"
   ]
  },
  {
   "cell_type": "markdown",
   "metadata": {},
   "source": [
    "EDA:"
   ]
  },
  {
   "cell_type": "code",
   "execution_count": 6,
   "metadata": {},
   "outputs": [
    {
     "name": "stdout",
     "output_type": "stream",
     "text": [
      "<class 'pandas.core.frame.DataFrame'>\n",
      "RangeIndex: 1132367 entries, 0 to 1132366\n",
      "Data columns (total 5 columns):\n",
      " #   Column     Non-Null Count    Dtype \n",
      "---  ------     --------------    ----- \n",
      " 0   user_id    1132367 non-null  int64 \n",
      " 1   recipe_id  1132367 non-null  int64 \n",
      " 2   date       1132367 non-null  object\n",
      " 3   rating     1132367 non-null  int64 \n",
      " 4   review     1132198 non-null  object\n",
      "dtypes: int64(3), object(2)\n",
      "memory usage: 43.2+ MB\n"
     ]
    }
   ],
   "source": [
    "user_interaction.info()"
   ]
  },
  {
   "cell_type": "code",
   "execution_count": 7,
   "metadata": {},
   "outputs": [
    {
     "name": "stdout",
     "output_type": "stream",
     "text": [
      "<class 'pandas.core.frame.DataFrame'>\n",
      "RangeIndex: 231637 entries, 0 to 231636\n",
      "Data columns (total 12 columns):\n",
      " #   Column          Non-Null Count   Dtype \n",
      "---  ------          --------------   ----- \n",
      " 0   name            231636 non-null  object\n",
      " 1   id              231637 non-null  int64 \n",
      " 2   minutes         231637 non-null  int64 \n",
      " 3   contributor_id  231637 non-null  int64 \n",
      " 4   submitted       231637 non-null  object\n",
      " 5   tags            231637 non-null  object\n",
      " 6   nutrition       231637 non-null  object\n",
      " 7   n_steps         231637 non-null  int64 \n",
      " 8   steps           231637 non-null  object\n",
      " 9   description     226658 non-null  object\n",
      " 10  ingredients     231637 non-null  object\n",
      " 11  n_ingredients   231637 non-null  int64 \n",
      "dtypes: int64(5), object(7)\n",
      "memory usage: 21.2+ MB\n"
     ]
    }
   ],
   "source": [
    "recipes.info()"
   ]
  },
  {
   "cell_type": "code",
   "execution_count": 8,
   "metadata": {},
   "outputs": [
    {
     "data": {
      "text/html": [
       "<div>\n",
       "<style scoped>\n",
       "    .dataframe tbody tr th:only-of-type {\n",
       "        vertical-align: middle;\n",
       "    }\n",
       "\n",
       "    .dataframe tbody tr th {\n",
       "        vertical-align: top;\n",
       "    }\n",
       "\n",
       "    .dataframe thead th {\n",
       "        text-align: right;\n",
       "    }\n",
       "</style>\n",
       "<table border=\"1\" class=\"dataframe\">\n",
       "  <thead>\n",
       "    <tr style=\"text-align: right;\">\n",
       "      <th></th>\n",
       "      <th>id</th>\n",
       "      <th>minutes</th>\n",
       "      <th>contributor_id</th>\n",
       "      <th>n_steps</th>\n",
       "      <th>n_ingredients</th>\n",
       "    </tr>\n",
       "  </thead>\n",
       "  <tbody>\n",
       "    <tr>\n",
       "      <th>count</th>\n",
       "      <td>231637.000000</td>\n",
       "      <td>2.316370e+05</td>\n",
       "      <td>2.316370e+05</td>\n",
       "      <td>231637.000000</td>\n",
       "      <td>231637.000000</td>\n",
       "    </tr>\n",
       "    <tr>\n",
       "      <th>mean</th>\n",
       "      <td>222014.708984</td>\n",
       "      <td>9.398546e+03</td>\n",
       "      <td>5.534885e+06</td>\n",
       "      <td>9.765499</td>\n",
       "      <td>9.051153</td>\n",
       "    </tr>\n",
       "    <tr>\n",
       "      <th>std</th>\n",
       "      <td>141206.635626</td>\n",
       "      <td>4.461963e+06</td>\n",
       "      <td>9.979141e+07</td>\n",
       "      <td>5.995128</td>\n",
       "      <td>3.734796</td>\n",
       "    </tr>\n",
       "    <tr>\n",
       "      <th>min</th>\n",
       "      <td>38.000000</td>\n",
       "      <td>0.000000e+00</td>\n",
       "      <td>2.700000e+01</td>\n",
       "      <td>0.000000</td>\n",
       "      <td>1.000000</td>\n",
       "    </tr>\n",
       "    <tr>\n",
       "      <th>25%</th>\n",
       "      <td>99944.000000</td>\n",
       "      <td>2.000000e+01</td>\n",
       "      <td>5.690500e+04</td>\n",
       "      <td>6.000000</td>\n",
       "      <td>6.000000</td>\n",
       "    </tr>\n",
       "    <tr>\n",
       "      <th>50%</th>\n",
       "      <td>207249.000000</td>\n",
       "      <td>4.000000e+01</td>\n",
       "      <td>1.736140e+05</td>\n",
       "      <td>9.000000</td>\n",
       "      <td>9.000000</td>\n",
       "    </tr>\n",
       "    <tr>\n",
       "      <th>75%</th>\n",
       "      <td>333816.000000</td>\n",
       "      <td>6.500000e+01</td>\n",
       "      <td>3.982750e+05</td>\n",
       "      <td>12.000000</td>\n",
       "      <td>11.000000</td>\n",
       "    </tr>\n",
       "    <tr>\n",
       "      <th>max</th>\n",
       "      <td>537716.000000</td>\n",
       "      <td>2.147484e+09</td>\n",
       "      <td>2.002290e+09</td>\n",
       "      <td>145.000000</td>\n",
       "      <td>43.000000</td>\n",
       "    </tr>\n",
       "  </tbody>\n",
       "</table>\n",
       "</div>"
      ],
      "text/plain": [
       "                  id       minutes  contributor_id        n_steps  \\\n",
       "count  231637.000000  2.316370e+05    2.316370e+05  231637.000000   \n",
       "mean   222014.708984  9.398546e+03    5.534885e+06       9.765499   \n",
       "std    141206.635626  4.461963e+06    9.979141e+07       5.995128   \n",
       "min        38.000000  0.000000e+00    2.700000e+01       0.000000   \n",
       "25%     99944.000000  2.000000e+01    5.690500e+04       6.000000   \n",
       "50%    207249.000000  4.000000e+01    1.736140e+05       9.000000   \n",
       "75%    333816.000000  6.500000e+01    3.982750e+05      12.000000   \n",
       "max    537716.000000  2.147484e+09    2.002290e+09     145.000000   \n",
       "\n",
       "       n_ingredients  \n",
       "count  231637.000000  \n",
       "mean        9.051153  \n",
       "std         3.734796  \n",
       "min         1.000000  \n",
       "25%         6.000000  \n",
       "50%         9.000000  \n",
       "75%        11.000000  \n",
       "max        43.000000  "
      ]
     },
     "execution_count": 8,
     "metadata": {},
     "output_type": "execute_result"
    }
   ],
   "source": [
    "recipes.describe()"
   ]
  },
  {
   "cell_type": "code",
   "execution_count": 9,
   "metadata": {},
   "outputs": [
    {
     "data": {
      "text/plain": [
       "name                 1\n",
       "id                   0\n",
       "minutes              0\n",
       "contributor_id       0\n",
       "submitted            0\n",
       "tags                 0\n",
       "nutrition            0\n",
       "n_steps              0\n",
       "steps                0\n",
       "description       4979\n",
       "ingredients          0\n",
       "n_ingredients        0\n",
       "dtype: int64"
      ]
     },
     "execution_count": 9,
     "metadata": {},
     "output_type": "execute_result"
    }
   ],
   "source": [
    "recipes.isna().sum()"
   ]
  },
  {
   "cell_type": "code",
   "execution_count": 11,
   "metadata": {},
   "outputs": [
    {
     "data": {
      "text/plain": [
       "name              0\n",
       "id                0\n",
       "minutes           0\n",
       "contributor_id    0\n",
       "submitted         0\n",
       "tags              0\n",
       "nutrition         0\n",
       "n_steps           0\n",
       "steps             0\n",
       "description       0\n",
       "ingredients       0\n",
       "n_ingredients     0\n",
       "dtype: int64"
      ]
     },
     "execution_count": 11,
     "metadata": {},
     "output_type": "execute_result"
    }
   ],
   "source": [
    "#Need datasets with proper description so dropping the 5k appx ones. \n",
    "recipes = recipes.dropna()\n",
    "recipes.isna().sum()"
   ]
  },
  {
   "cell_type": "code",
   "execution_count": 8,
   "metadata": {},
   "outputs": [
    {
     "data": {
      "text/plain": [
       "\"['60-minutes-or-less', 'time-to-make', 'course', 'main-ingredient', 'cuisine', 'preparation', 'occasion', 'north-american', 'side-dishes', 'vegetables', 'mexican', 'easy', 'fall', 'holiday-event', 'vegetarian', 'winter', 'dietary', 'christmas', 'seasonal', 'squash']\""
      ]
     },
     "execution_count": 8,
     "metadata": {},
     "output_type": "execute_result"
    }
   ],
   "source": [
    "recipes['tags'][0]"
   ]
  },
  {
   "cell_type": "code",
   "execution_count": 9,
   "metadata": {},
   "outputs": [
    {
     "data": {
      "text/plain": [
       "0         60-minutes-or-less\n",
       "0               time-to-make\n",
       "0                     course\n",
       "0            main-ingredient\n",
       "0                    cuisine\n",
       "                 ...        \n",
       "231636               dietary\n",
       "231636          comfort-food\n",
       "231636            taste-mood\n",
       "231636                 sweet\n",
       "231636    number-of-servings\n",
       "Name: tags, Length: 4141688, dtype: object"
      ]
     },
     "execution_count": 9,
     "metadata": {},
     "output_type": "execute_result"
    }
   ],
   "source": [
    "recipes['tags'] = recipes['tags'].apply(ast.literal_eval)\n",
    "tags = recipes['tags'].explode()\n",
    "tags"
   ]
  },
  {
   "cell_type": "code",
   "execution_count": 10,
   "metadata": {},
   "outputs": [
    {
     "data": {
      "text/plain": [
       "552"
      ]
     },
     "execution_count": 10,
     "metadata": {},
     "output_type": "execute_result"
    }
   ],
   "source": [
    "len(tags.unique())"
   ]
  },
  {
   "cell_type": "code",
   "execution_count": null,
   "metadata": {},
   "outputs": [
    {
     "data": {
      "text/plain": [
       "tags\n",
       "preparation        230546\n",
       "time-to-make       225326\n",
       "course             218148\n",
       "main-ingredient    170446\n",
       "dietary            165091\n",
       "                    ...  \n",
       "savory              10544\n",
       "sweet               10543\n",
       "potatoes            10293\n",
       "summer              10039\n",
       "vegan               10012\n",
       "Name: count, Length: 82, dtype: int64"
      ]
     },
     "execution_count": 11,
     "metadata": {},
     "output_type": "execute_result"
    }
   ],
   "source": [
    "#popular tags\n",
    "tag_counts = tags.value_counts()\n",
    "tags_filtered = tag_counts[tag_counts >  10000]\n",
    "tags_filtered"
   ]
  },
  {
   "cell_type": "code",
   "execution_count": 12,
   "metadata": {},
   "outputs": [
    {
     "data": {
      "text/html": [
       "<div>\n",
       "<style scoped>\n",
       "    .dataframe tbody tr th:only-of-type {\n",
       "        vertical-align: middle;\n",
       "    }\n",
       "\n",
       "    .dataframe tbody tr th {\n",
       "        vertical-align: top;\n",
       "    }\n",
       "\n",
       "    .dataframe thead th {\n",
       "        text-align: right;\n",
       "    }\n",
       "</style>\n",
       "<table border=\"1\" class=\"dataframe\">\n",
       "  <thead>\n",
       "    <tr style=\"text-align: right;\">\n",
       "      <th></th>\n",
       "      <th>name</th>\n",
       "      <th>id</th>\n",
       "      <th>minutes</th>\n",
       "      <th>contributor_id</th>\n",
       "      <th>submitted</th>\n",
       "      <th>tags</th>\n",
       "      <th>n_steps</th>\n",
       "      <th>steps</th>\n",
       "      <th>description</th>\n",
       "      <th>ingredients</th>\n",
       "      <th>n_ingredients</th>\n",
       "      <th>calories</th>\n",
       "      <th>fat</th>\n",
       "      <th>sugar</th>\n",
       "      <th>sodium</th>\n",
       "      <th>protein</th>\n",
       "      <th>saturated_fat</th>\n",
       "      <th>carbohydrates</th>\n",
       "    </tr>\n",
       "  </thead>\n",
       "  <tbody>\n",
       "    <tr>\n",
       "      <th>0</th>\n",
       "      <td>arriba   baked winter squash mexican style</td>\n",
       "      <td>137739</td>\n",
       "      <td>55</td>\n",
       "      <td>47892</td>\n",
       "      <td>2005-09-16</td>\n",
       "      <td>[60-minutes-or-less, time-to-make, course, mai...</td>\n",
       "      <td>11</td>\n",
       "      <td>['make a choice and proceed with recipe', 'dep...</td>\n",
       "      <td>autumn is my favorite time of year to cook! th...</td>\n",
       "      <td>['winter squash', 'mexican seasoning', 'mixed ...</td>\n",
       "      <td>7</td>\n",
       "      <td>51.5</td>\n",
       "      <td>0.0</td>\n",
       "      <td>13.0</td>\n",
       "      <td>0.0</td>\n",
       "      <td>2.0</td>\n",
       "      <td>0.0</td>\n",
       "      <td>4.0</td>\n",
       "    </tr>\n",
       "    <tr>\n",
       "      <th>1</th>\n",
       "      <td>a bit different  breakfast pizza</td>\n",
       "      <td>31490</td>\n",
       "      <td>30</td>\n",
       "      <td>26278</td>\n",
       "      <td>2002-06-17</td>\n",
       "      <td>[30-minutes-or-less, time-to-make, course, mai...</td>\n",
       "      <td>9</td>\n",
       "      <td>['preheat oven to 425 degrees f', 'press dough...</td>\n",
       "      <td>this recipe calls for the crust to be prebaked...</td>\n",
       "      <td>['prepared pizza crust', 'sausage patty', 'egg...</td>\n",
       "      <td>6</td>\n",
       "      <td>173.4</td>\n",
       "      <td>18.0</td>\n",
       "      <td>0.0</td>\n",
       "      <td>17.0</td>\n",
       "      <td>22.0</td>\n",
       "      <td>35.0</td>\n",
       "      <td>1.0</td>\n",
       "    </tr>\n",
       "    <tr>\n",
       "      <th>2</th>\n",
       "      <td>all in the kitchen  chili</td>\n",
       "      <td>112140</td>\n",
       "      <td>130</td>\n",
       "      <td>196586</td>\n",
       "      <td>2005-02-25</td>\n",
       "      <td>[time-to-make, course, preparation, main-dish,...</td>\n",
       "      <td>6</td>\n",
       "      <td>['brown ground beef in large pot', 'add choppe...</td>\n",
       "      <td>this modified version of 'mom's' chili was a h...</td>\n",
       "      <td>['ground beef', 'yellow onions', 'diced tomato...</td>\n",
       "      <td>13</td>\n",
       "      <td>269.8</td>\n",
       "      <td>22.0</td>\n",
       "      <td>32.0</td>\n",
       "      <td>48.0</td>\n",
       "      <td>39.0</td>\n",
       "      <td>27.0</td>\n",
       "      <td>5.0</td>\n",
       "    </tr>\n",
       "    <tr>\n",
       "      <th>3</th>\n",
       "      <td>alouette  potatoes</td>\n",
       "      <td>59389</td>\n",
       "      <td>45</td>\n",
       "      <td>68585</td>\n",
       "      <td>2003-04-14</td>\n",
       "      <td>[60-minutes-or-less, time-to-make, course, mai...</td>\n",
       "      <td>11</td>\n",
       "      <td>['place potatoes in a large pot of lightly sal...</td>\n",
       "      <td>this is a super easy, great tasting, make ahea...</td>\n",
       "      <td>['spreadable cheese with garlic and herbs', 'n...</td>\n",
       "      <td>11</td>\n",
       "      <td>368.1</td>\n",
       "      <td>17.0</td>\n",
       "      <td>10.0</td>\n",
       "      <td>2.0</td>\n",
       "      <td>14.0</td>\n",
       "      <td>8.0</td>\n",
       "      <td>20.0</td>\n",
       "    </tr>\n",
       "    <tr>\n",
       "      <th>4</th>\n",
       "      <td>amish  tomato ketchup  for canning</td>\n",
       "      <td>44061</td>\n",
       "      <td>190</td>\n",
       "      <td>41706</td>\n",
       "      <td>2002-10-25</td>\n",
       "      <td>[weeknight, time-to-make, course, main-ingredi...</td>\n",
       "      <td>5</td>\n",
       "      <td>['mix all ingredients&amp; boil for 2 1 / 2 hours ...</td>\n",
       "      <td>my dh's amish mother raised him on this recipe...</td>\n",
       "      <td>['tomato juice', 'apple cider vinegar', 'sugar...</td>\n",
       "      <td>8</td>\n",
       "      <td>352.9</td>\n",
       "      <td>1.0</td>\n",
       "      <td>337.0</td>\n",
       "      <td>23.0</td>\n",
       "      <td>3.0</td>\n",
       "      <td>0.0</td>\n",
       "      <td>28.0</td>\n",
       "    </tr>\n",
       "  </tbody>\n",
       "</table>\n",
       "</div>"
      ],
      "text/plain": [
       "                                         name      id  minutes  \\\n",
       "0  arriba   baked winter squash mexican style  137739       55   \n",
       "1            a bit different  breakfast pizza   31490       30   \n",
       "2                   all in the kitchen  chili  112140      130   \n",
       "3                          alouette  potatoes   59389       45   \n",
       "4          amish  tomato ketchup  for canning   44061      190   \n",
       "\n",
       "   contributor_id   submitted  \\\n",
       "0           47892  2005-09-16   \n",
       "1           26278  2002-06-17   \n",
       "2          196586  2005-02-25   \n",
       "3           68585  2003-04-14   \n",
       "4           41706  2002-10-25   \n",
       "\n",
       "                                                tags  n_steps  \\\n",
       "0  [60-minutes-or-less, time-to-make, course, mai...       11   \n",
       "1  [30-minutes-or-less, time-to-make, course, mai...        9   \n",
       "2  [time-to-make, course, preparation, main-dish,...        6   \n",
       "3  [60-minutes-or-less, time-to-make, course, mai...       11   \n",
       "4  [weeknight, time-to-make, course, main-ingredi...        5   \n",
       "\n",
       "                                               steps  \\\n",
       "0  ['make a choice and proceed with recipe', 'dep...   \n",
       "1  ['preheat oven to 425 degrees f', 'press dough...   \n",
       "2  ['brown ground beef in large pot', 'add choppe...   \n",
       "3  ['place potatoes in a large pot of lightly sal...   \n",
       "4  ['mix all ingredients& boil for 2 1 / 2 hours ...   \n",
       "\n",
       "                                         description  \\\n",
       "0  autumn is my favorite time of year to cook! th...   \n",
       "1  this recipe calls for the crust to be prebaked...   \n",
       "2  this modified version of 'mom's' chili was a h...   \n",
       "3  this is a super easy, great tasting, make ahea...   \n",
       "4  my dh's amish mother raised him on this recipe...   \n",
       "\n",
       "                                         ingredients  n_ingredients  calories  \\\n",
       "0  ['winter squash', 'mexican seasoning', 'mixed ...              7      51.5   \n",
       "1  ['prepared pizza crust', 'sausage patty', 'egg...              6     173.4   \n",
       "2  ['ground beef', 'yellow onions', 'diced tomato...             13     269.8   \n",
       "3  ['spreadable cheese with garlic and herbs', 'n...             11     368.1   \n",
       "4  ['tomato juice', 'apple cider vinegar', 'sugar...              8     352.9   \n",
       "\n",
       "    fat  sugar  sodium  protein  saturated_fat  carbohydrates  \n",
       "0   0.0   13.0     0.0      2.0            0.0            4.0  \n",
       "1  18.0    0.0    17.0     22.0           35.0            1.0  \n",
       "2  22.0   32.0    48.0     39.0           27.0            5.0  \n",
       "3  17.0   10.0     2.0     14.0            8.0           20.0  \n",
       "4   1.0  337.0    23.0      3.0            0.0           28.0  "
      ]
     },
     "execution_count": 12,
     "metadata": {},
     "output_type": "execute_result"
    }
   ],
   "source": [
    "# Nutrition information (calories (#), total fat (PDV), sugar (PDV) , sodium (PDV) , protein (PDV) , saturated fat (PDV), total carbohydrates (PDV))\n",
    "# Currently a string, need to convert to list then make into seperate columns\n",
    "recipes['nutrition'] = recipes['nutrition'].apply(ast.literal_eval)\n",
    "recipes[['calories', 'fat', 'sugar', 'sodium', 'protein', 'saturated_fat', 'carbohydrates']] = recipes['nutrition'].apply(pd.Series)\n",
    "recipes = recipes.drop(columns=['nutrition'])\n",
    "recipes.head()"
   ]
  },
  {
   "cell_type": "code",
   "execution_count": 13,
   "metadata": {},
   "outputs": [
    {
     "data": {
      "text/html": [
       "<div>\n",
       "<style scoped>\n",
       "    .dataframe tbody tr th:only-of-type {\n",
       "        vertical-align: middle;\n",
       "    }\n",
       "\n",
       "    .dataframe tbody tr th {\n",
       "        vertical-align: top;\n",
       "    }\n",
       "\n",
       "    .dataframe thead th {\n",
       "        text-align: right;\n",
       "    }\n",
       "</style>\n",
       "<table border=\"1\" class=\"dataframe\">\n",
       "  <thead>\n",
       "    <tr style=\"text-align: right;\">\n",
       "      <th></th>\n",
       "      <th>name</th>\n",
       "      <th>id</th>\n",
       "      <th>minutes</th>\n",
       "      <th>contributor_id</th>\n",
       "      <th>submitted</th>\n",
       "      <th>tags</th>\n",
       "      <th>n_steps</th>\n",
       "      <th>steps</th>\n",
       "      <th>description</th>\n",
       "      <th>ingredients</th>\n",
       "      <th>n_ingredients</th>\n",
       "      <th>calories</th>\n",
       "      <th>fat</th>\n",
       "      <th>sugar</th>\n",
       "      <th>sodium</th>\n",
       "      <th>protein</th>\n",
       "      <th>saturated_fat</th>\n",
       "      <th>carbohydrates</th>\n",
       "    </tr>\n",
       "  </thead>\n",
       "  <tbody>\n",
       "    <tr>\n",
       "      <th>0</th>\n",
       "      <td>arriba   baked winter squash mexican style</td>\n",
       "      <td>137739</td>\n",
       "      <td>55</td>\n",
       "      <td>47892</td>\n",
       "      <td>2005-09-16</td>\n",
       "      <td>[60-minutes-or-less, time-to-make, course, mai...</td>\n",
       "      <td>11</td>\n",
       "      <td>[make a choice and proceed with recipe, depend...</td>\n",
       "      <td>autumn is my favorite time of year to cook! th...</td>\n",
       "      <td>['winter squash', 'mexican seasoning', 'mixed ...</td>\n",
       "      <td>7</td>\n",
       "      <td>51.5</td>\n",
       "      <td>0.0</td>\n",
       "      <td>13.0</td>\n",
       "      <td>0.0</td>\n",
       "      <td>2.0</td>\n",
       "      <td>0.0</td>\n",
       "      <td>4.0</td>\n",
       "    </tr>\n",
       "    <tr>\n",
       "      <th>1</th>\n",
       "      <td>a bit different  breakfast pizza</td>\n",
       "      <td>31490</td>\n",
       "      <td>30</td>\n",
       "      <td>26278</td>\n",
       "      <td>2002-06-17</td>\n",
       "      <td>[30-minutes-or-less, time-to-make, course, mai...</td>\n",
       "      <td>9</td>\n",
       "      <td>[preheat oven to 425 degrees f, press dough in...</td>\n",
       "      <td>this recipe calls for the crust to be prebaked...</td>\n",
       "      <td>['prepared pizza crust', 'sausage patty', 'egg...</td>\n",
       "      <td>6</td>\n",
       "      <td>173.4</td>\n",
       "      <td>18.0</td>\n",
       "      <td>0.0</td>\n",
       "      <td>17.0</td>\n",
       "      <td>22.0</td>\n",
       "      <td>35.0</td>\n",
       "      <td>1.0</td>\n",
       "    </tr>\n",
       "    <tr>\n",
       "      <th>2</th>\n",
       "      <td>all in the kitchen  chili</td>\n",
       "      <td>112140</td>\n",
       "      <td>130</td>\n",
       "      <td>196586</td>\n",
       "      <td>2005-02-25</td>\n",
       "      <td>[time-to-make, course, preparation, main-dish,...</td>\n",
       "      <td>6</td>\n",
       "      <td>[brown ground beef in large pot, add chopped o...</td>\n",
       "      <td>this modified version of 'mom's' chili was a h...</td>\n",
       "      <td>['ground beef', 'yellow onions', 'diced tomato...</td>\n",
       "      <td>13</td>\n",
       "      <td>269.8</td>\n",
       "      <td>22.0</td>\n",
       "      <td>32.0</td>\n",
       "      <td>48.0</td>\n",
       "      <td>39.0</td>\n",
       "      <td>27.0</td>\n",
       "      <td>5.0</td>\n",
       "    </tr>\n",
       "    <tr>\n",
       "      <th>3</th>\n",
       "      <td>alouette  potatoes</td>\n",
       "      <td>59389</td>\n",
       "      <td>45</td>\n",
       "      <td>68585</td>\n",
       "      <td>2003-04-14</td>\n",
       "      <td>[60-minutes-or-less, time-to-make, course, mai...</td>\n",
       "      <td>11</td>\n",
       "      <td>[place potatoes in a large pot of lightly salt...</td>\n",
       "      <td>this is a super easy, great tasting, make ahea...</td>\n",
       "      <td>['spreadable cheese with garlic and herbs', 'n...</td>\n",
       "      <td>11</td>\n",
       "      <td>368.1</td>\n",
       "      <td>17.0</td>\n",
       "      <td>10.0</td>\n",
       "      <td>2.0</td>\n",
       "      <td>14.0</td>\n",
       "      <td>8.0</td>\n",
       "      <td>20.0</td>\n",
       "    </tr>\n",
       "    <tr>\n",
       "      <th>4</th>\n",
       "      <td>amish  tomato ketchup  for canning</td>\n",
       "      <td>44061</td>\n",
       "      <td>190</td>\n",
       "      <td>41706</td>\n",
       "      <td>2002-10-25</td>\n",
       "      <td>[weeknight, time-to-make, course, main-ingredi...</td>\n",
       "      <td>5</td>\n",
       "      <td>[mix all ingredients&amp; boil for 2 1 / 2 hours ,...</td>\n",
       "      <td>my dh's amish mother raised him on this recipe...</td>\n",
       "      <td>['tomato juice', 'apple cider vinegar', 'sugar...</td>\n",
       "      <td>8</td>\n",
       "      <td>352.9</td>\n",
       "      <td>1.0</td>\n",
       "      <td>337.0</td>\n",
       "      <td>23.0</td>\n",
       "      <td>3.0</td>\n",
       "      <td>0.0</td>\n",
       "      <td>28.0</td>\n",
       "    </tr>\n",
       "  </tbody>\n",
       "</table>\n",
       "</div>"
      ],
      "text/plain": [
       "                                         name      id  minutes  \\\n",
       "0  arriba   baked winter squash mexican style  137739       55   \n",
       "1            a bit different  breakfast pizza   31490       30   \n",
       "2                   all in the kitchen  chili  112140      130   \n",
       "3                          alouette  potatoes   59389       45   \n",
       "4          amish  tomato ketchup  for canning   44061      190   \n",
       "\n",
       "   contributor_id   submitted  \\\n",
       "0           47892  2005-09-16   \n",
       "1           26278  2002-06-17   \n",
       "2          196586  2005-02-25   \n",
       "3           68585  2003-04-14   \n",
       "4           41706  2002-10-25   \n",
       "\n",
       "                                                tags  n_steps  \\\n",
       "0  [60-minutes-or-less, time-to-make, course, mai...       11   \n",
       "1  [30-minutes-or-less, time-to-make, course, mai...        9   \n",
       "2  [time-to-make, course, preparation, main-dish,...        6   \n",
       "3  [60-minutes-or-less, time-to-make, course, mai...       11   \n",
       "4  [weeknight, time-to-make, course, main-ingredi...        5   \n",
       "\n",
       "                                               steps  \\\n",
       "0  [make a choice and proceed with recipe, depend...   \n",
       "1  [preheat oven to 425 degrees f, press dough in...   \n",
       "2  [brown ground beef in large pot, add chopped o...   \n",
       "3  [place potatoes in a large pot of lightly salt...   \n",
       "4  [mix all ingredients& boil for 2 1 / 2 hours ,...   \n",
       "\n",
       "                                         description  \\\n",
       "0  autumn is my favorite time of year to cook! th...   \n",
       "1  this recipe calls for the crust to be prebaked...   \n",
       "2  this modified version of 'mom's' chili was a h...   \n",
       "3  this is a super easy, great tasting, make ahea...   \n",
       "4  my dh's amish mother raised him on this recipe...   \n",
       "\n",
       "                                         ingredients  n_ingredients  calories  \\\n",
       "0  ['winter squash', 'mexican seasoning', 'mixed ...              7      51.5   \n",
       "1  ['prepared pizza crust', 'sausage patty', 'egg...              6     173.4   \n",
       "2  ['ground beef', 'yellow onions', 'diced tomato...             13     269.8   \n",
       "3  ['spreadable cheese with garlic and herbs', 'n...             11     368.1   \n",
       "4  ['tomato juice', 'apple cider vinegar', 'sugar...              8     352.9   \n",
       "\n",
       "    fat  sugar  sodium  protein  saturated_fat  carbohydrates  \n",
       "0   0.0   13.0     0.0      2.0            0.0            4.0  \n",
       "1  18.0    0.0    17.0     22.0           35.0            1.0  \n",
       "2  22.0   32.0    48.0     39.0           27.0            5.0  \n",
       "3  17.0   10.0     2.0     14.0            8.0           20.0  \n",
       "4   1.0  337.0    23.0      3.0            0.0           28.0  "
      ]
     },
     "execution_count": 13,
     "metadata": {},
     "output_type": "execute_result"
    }
   ],
   "source": [
    "recipes['steps'] = recipes['steps'].apply(ast.literal_eval)\n",
    "recipes.head()"
   ]
  },
  {
   "cell_type": "code",
   "execution_count": 14,
   "metadata": {},
   "outputs": [
    {
     "data": {
      "text/plain": [
       "['make a choice and proceed with recipe',\n",
       " 'depending on size of squash , cut into half or fourths',\n",
       " 'remove seeds',\n",
       " 'for spicy squash , drizzle olive oil or melted butter over each cut squash piece',\n",
       " 'season with mexican seasoning mix ii',\n",
       " 'for sweet squash , drizzle melted honey , butter , grated piloncillo over each cut squash piece',\n",
       " 'season with sweet mexican spice mix',\n",
       " 'bake at 350 degrees , again depending on size , for 40 minutes up to an hour , until a fork can easily pierce the skin',\n",
       " 'be careful not to burn the squash especially if you opt to use sugar or butter',\n",
       " 'if you feel more comfortable , cover the squash with aluminum foil the first half hour , give or take , of baking',\n",
       " 'if desired , season with salt']"
      ]
     },
     "execution_count": 14,
     "metadata": {},
     "output_type": "execute_result"
    }
   ],
   "source": [
    "recipes['steps'][0]"
   ]
  },
  {
   "cell_type": "code",
   "execution_count": null,
   "metadata": {},
   "outputs": [
    {
     "data": {
      "text/plain": [
       "['winter squash',\n",
       " 'mexican seasoning',\n",
       " 'mixed spice',\n",
       " 'honey',\n",
       " 'butter',\n",
       " 'olive oil',\n",
       " 'salt']"
      ]
     },
     "execution_count": 18,
     "metadata": {},
     "output_type": "execute_result"
    }
   ],
   "source": [
    "#ingredients for CBF\n",
    "recipes['ingredients'] = recipes['ingredients'].apply(ast.literal_eval)\n",
    "recipes['ingredients'][0]"
   ]
  },
  {
   "cell_type": "code",
   "execution_count": null,
   "metadata": {},
   "outputs": [
    {
     "data": {
      "text/plain": [
       "ingredients\n",
       "salt                    85746\n",
       "butter                  54975\n",
       "sugar                   44535\n",
       "onion                   39065\n",
       "water                   34914\n",
       "                        ...  \n",
       "hot hungarian pepper        1\n",
       "noilly prat                 1\n",
       "ovolini                     1\n",
       "ginseng extract             1\n",
       "nepitella                   1\n",
       "Name: count, Length: 14942, dtype: int64"
      ]
     },
     "execution_count": 19,
     "metadata": {},
     "output_type": "execute_result"
    }
   ],
   "source": [
    "\n",
    "ingredients = recipes['ingredients'].explode()\n",
    "ing_counts = ingredients.value_counts()\n",
    "ing_counts"
   ]
  },
  {
   "cell_type": "code",
   "execution_count": 20,
   "metadata": {},
   "outputs": [
    {
     "data": {
      "text/plain": [
       "ingredients\n",
       "salt                85746\n",
       "butter              54975\n",
       "sugar               44535\n",
       "onion               39065\n",
       "water               34914\n",
       "                    ...  \n",
       "warm water           2054\n",
       "almond extract       2046\n",
       "swiss cheese         2043\n",
       "ground coriander     2041\n",
       "mushroom             2020\n",
       "Name: count, Length: 176, dtype: int64"
      ]
     },
     "execution_count": 20,
     "metadata": {},
     "output_type": "execute_result"
    }
   ],
   "source": [
    "ing_filetered = ing_counts[ing_counts > 2000]\n",
    "ing_filetered"
   ]
  },
  {
   "cell_type": "code",
   "execution_count": 21,
   "metadata": {},
   "outputs": [
    {
     "name": "stdout",
     "output_type": "stream",
     "text": [
      "chicken broth\n",
      "chicken stock\n",
      "boneless skinless chicken breasts\n",
      "chicken breasts\n",
      "chicken\n"
     ]
    }
   ],
   "source": [
    "for ing in list(ing_filetered.index):\n",
    "    if 'chicken'  in ing:\n",
    "        print(ing)"
   ]
  },
  {
   "cell_type": "markdown",
   "metadata": {},
   "source": [
    "TF-IFD and Cosine for CBF"
   ]
  },
  {
   "cell_type": "code",
   "execution_count": 22,
   "metadata": {},
   "outputs": [
    {
     "data": {
      "text/plain": [
       "['winter squash',\n",
       " 'mexican seasoning',\n",
       " 'mixed spice',\n",
       " 'honey',\n",
       " 'butter',\n",
       " 'olive oil',\n",
       " 'salt']"
      ]
     },
     "execution_count": 22,
     "metadata": {},
     "output_type": "execute_result"
    }
   ],
   "source": [
    "recipes['ingredients'][0]"
   ]
  },
  {
   "cell_type": "code",
   "execution_count": 23,
   "metadata": {},
   "outputs": [],
   "source": [
    "#joining multi-word ingredients to single strings. still in list format for now\n",
    "def join_ingredients(ingredients):\n",
    "    return [ingredient.replace(' ', '') for ingredient in ingredients]\n",
    "\n",
    "recipes['ingredients'] = recipes['ingredients'].apply(join_ingredients)"
   ]
  },
  {
   "cell_type": "code",
   "execution_count": 24,
   "metadata": {},
   "outputs": [
    {
     "data": {
      "text/plain": [
       "['wintersquash',\n",
       " 'mexicanseasoning',\n",
       " 'mixedspice',\n",
       " 'honey',\n",
       " 'butter',\n",
       " 'oliveoil',\n",
       " 'salt']"
      ]
     },
     "execution_count": 24,
     "metadata": {},
     "output_type": "execute_result"
    }
   ],
   "source": [
    "recipes['ingredients'][0]"
   ]
  },
  {
   "cell_type": "code",
   "execution_count": 25,
   "metadata": {},
   "outputs": [],
   "source": [
    "# Combine ingredients list into a single string\n",
    "recipes['ingredients_str'] = recipes['ingredients'].apply(lambda x: ' '.join(x))"
   ]
  },
  {
   "cell_type": "code",
   "execution_count": 26,
   "metadata": {},
   "outputs": [
    {
     "data": {
      "text/plain": [
       "'wintersquash mexicanseasoning mixedspice honey butter oliveoil salt'"
      ]
     },
     "execution_count": 26,
     "metadata": {},
     "output_type": "execute_result"
    }
   ],
   "source": [
    "recipes['ingredients_str'][0]"
   ]
  },
  {
   "cell_type": "code",
   "execution_count": 27,
   "metadata": {},
   "outputs": [],
   "source": [
    "from sklearn.feature_extraction.text import TfidfVectorizer\n",
    "from sklearn.metrics.pairwise import cosine_similarity\n",
    "\n",
    "# Vectorize ingredients\n",
    "tfidf = TfidfVectorizer(stop_words=\"english\")\n",
    "tfidf_matrix = tfidf.fit_transform(recipes['ingredients_str'])"
   ]
  },
  {
   "cell_type": "code",
   "execution_count": 34,
   "metadata": {},
   "outputs": [
    {
     "data": {
      "text/plain": [
       "<Compressed Sparse Row sparse matrix of dtype 'float64'\n",
       "\twith 7 stored elements and shape (1, 14748)>"
      ]
     },
     "execution_count": 34,
     "metadata": {},
     "output_type": "execute_result"
    }
   ],
   "source": [
    "tfidf_matrix[0]"
   ]
  },
  {
   "cell_type": "code",
   "execution_count": 35,
   "metadata": {},
   "outputs": [
    {
     "data": {
      "text/plain": [
       "(226657, 14748)"
      ]
     },
     "execution_count": 35,
     "metadata": {},
     "output_type": "execute_result"
    }
   ],
   "source": [
    "tfidf_matrix.shape"
   ]
  },
  {
   "cell_type": "code",
   "execution_count": 28,
   "metadata": {},
   "outputs": [],
   "source": [
    "def suggest_recipes(user_ingredients):\n",
    "    input_ingredients_str = ' '.join([ingredient.replace(' ', '') for ingredient in user_ingredients])\n",
    "    input_vector = tfidf.transform([input_ingredients_str])\n",
    "    # Compute cosine similarity between the input vector and recipe vectors\n",
    "    similarity_scores = cosine_similarity(input_vector, tfidf_matrix).flatten()\n",
    "    recipes['similarity'] = similarity_scores\n",
    "    top_recipes = recipes.nlargest(10, 'similarity')[['name', 'minutes', 'tags', 'steps', 'ingredients', 'similarity']]\n",
    "\n",
    "    \n",
    "    print(\"\\nTop 10 Suggested Recipes:\\n\")\n",
    "    for idx, row in top_recipes.iterrows():\n",
    "        print(f\"Recipe Name: {row['name']}\")\n",
    "        print(f\"Preparation Time: {row['minutes']} minutes\")\n",
    "        print(f\"Tags: {', '.join(row['tags']) if isinstance(row['tags'], list) else row['tags']}\")\n",
    "        print(f\"Ingredients: {', '.join(row['ingredients']) if isinstance(row['ingredients'], list) else row['ingredients']}\")\n",
    "        print(f\"Steps: {' '.join(row['steps']) if isinstance(row['steps'], list) else row['steps']}\")\n",
    "        print(f\"Similarity Score: {row['similarity']:.2f}\")\n",
    "        print(\"-\" * 50)\n",
    "    return \n",
    "    \n",
    "    \n"
   ]
  },
  {
   "cell_type": "code",
   "execution_count": 116,
   "metadata": {},
   "outputs": [
    {
     "name": "stdout",
     "output_type": "stream",
     "text": [
      "\n",
      "Top 10 Suggested Recipes:\n",
      "\n",
      "Recipe Name: gulab jamun\n",
      "Preparation Time: 50 minutes\n",
      "Tags: 60-minutes-or-less, time-to-make, course, main-ingredient, cuisine, preparation, desserts, eggs-dairy, asian, indian\n",
      "Ingredients: milk, flour, powderedmilk, self-risingflour, ghee, sugar, water, rosewater, saffron, cardamompowder, butter\n",
      "Steps: to make ghee: put the butter in a good saucepan and bring to a boil on medium heat then reduce to low now this is what will happen as the butter slowly simmers moisture will be evaporated out of the ghee the white protein-solids from the butter will sink down to the bottom of the pan and slowly turn golden a foam will rise to the surface , and as it cooks will form a bit of a crust the butter will cook into a gold color as well , and it will have a slightly nutty smell when the moisture is gone , the ghee is done decant the oil and save the delicious golden buttery bits on the bottom of the pan for toast , or mixed with veggies or potatoes if you've used salted butter , you don't want to use it on toast- the salt will knock you out , but it's still good in potatoes or whatnot making the scented syrup: combine sugar and water and bring to a boil for 3 minutes remove from heat and add rose water or essence traditional method: use a heavy-bottomed pan because the milk will stick use a non-stick pot if you have it boil the milk down over medium heat , while stirring , until it forms a paste add the flour and mix into a smooth paste oil your hands and roll them into uniform balls , place them onto a buttered plate and set aside powdered-milk method: combine the warm milk and ghee together mix the powdered milk and flour together and sprinkle slowly into the wet mix to form a dough oil your hands and form uniform balls and set aside on a buttered plate cooking the jamuns: this is the most delicate part of the operation gentle , low heat is a must use a wok or karai for best results , with the ghee about 2 5-3 inches in depth heat the ghee on low to 215 degrees slip in the balls , one by one they will sink no touching at this point gently shake the pan to move the balls and keep them from getting too brown on one side after about 5 minutes they will begin to float you will notice them getting bigger now , use a wooden spoon or equivalent to gently agitate and keep them evenly browning the ghee will slowly get hotter as the balls cook after about 20 minutes , the ghee will have risen in temperature to around 245 degrees and the balls should be nice and golden remove a ball and put it in the syrup if it doesn't collapse after 3 minutes , remove the others and add to the syrup if it does collapse , fry for another 5 minutes and try again let soak for 2 hours at least before serving serve room temperature or warmed up enjoy your gulab jamuns !\n",
      "Similarity Score: 1.00\n",
      "--------------------------------------------------\n",
      "Recipe Name: balaleet  vermicelli and egg omelet\n",
      "Preparation Time: 20 minutes\n",
      "Tags: 30-minutes-or-less, time-to-make, course, cuisine, preparation, occasion, omelets-and-frittatas, breakfast, middle-eastern, vegetarian, dietary, inexpensive, taste-mood, sweet, from-scratch\n",
      "Ingredients: vermicelli, cookingoil, ghee, sugar, cardamompowder, saffron, rosewater, eggs, salt, blackpepper\n",
      "Steps: in a large pot , bring enough water to boil for the vermicelli meanwhile , in a wok , or wide pan , heat the 2 tablespoons of cooking oil and add the vermicelli with a wooden spoon , constantly stir the vermicelli so it wont burn lightly fry the vermicelli until it is a dark , golden brown color remove the wok from the heat once the water starts to boil , add the vermicelli and cook for just 3-4 minutes and then drain place back into pot in another pot , heat the ghee and add the sugar and cardamom powder along with the saffron rose water cook until the sugar melts and then pour over the cooked vermicelli cover the pot with a lid to keep warm in a pan make an omelet heat about 3 tablespoons cooking oil and then when very hot add the beaten eggs when dry on top , turn the egg omelet over and cook for one minute more in a large serving dish , spread the vermicelli and top with the egg omelet enjoy ! it is very delicious !\n",
      "Similarity Score: 0.62\n",
      "--------------------------------------------------\n",
      "Recipe Name: cashew burfi\n",
      "Preparation Time: 21 minutes\n",
      "Tags: 30-minutes-or-less, time-to-make, preparation, occasion, dietary, low-sodium, low-in-something, number-of-servings\n",
      "Ingredients: cashews, sugar, ghee, milk, saffron, cardamompowder\n",
      "Steps: soak cashew in milk for an hour& grind finely along with saffron in a casserole mix sugar with 1 / 2 cup of water& stir well microwave it on high for 4 minutes to dissolve the sugar , stirring once in between micro high , ghee in a cup for 1 minute to sugar syrup , add cashew paste& hot ghee micro high for 12-15 minutes , stirring thoroughly twice in between test for soft ball stage if not done micro high again for 1 or 2 minutes more add spices , mix well , & pour onto a greased plate& cut when slightly cool\n",
      "Similarity Score: 0.62\n",
      "--------------------------------------------------\n",
      "Recipe Name: gulab jamuns\n",
      "Preparation Time: 60 minutes\n",
      "Tags: 60-minutes-or-less, time-to-make, course, cuisine, preparation, pies-and-tarts, desserts, asian, indian, cakes, dietary\n",
      "Ingredients: powderedmilk, all-purposeflour, water, rosewater, sugar, saffron, bakingsoda, heavycream, cardamoms, ghee\n",
      "Steps: bring the water , rose water and sugar to boil , add the saffron , remove from heat and set aside mix the milk powder , flour , soda , heavy cream well and knead until a soft dough is made take a teaspoon of the dough , place one cardamom seed in it and make a small ball similarly make the balls with the remaining dough , and fry them when the ghee is ready until golden brown remove with a slotted spoon and transfer into the syrup , which should be quite warm serve these delicious gulab jamuns with hot syrup and garnished with almonds or pistachio\n",
      "Similarity Score: 0.59\n",
      "--------------------------------------------------\n",
      "Recipe Name: motichoor ladoo\n",
      "Preparation Time: 60 minutes\n",
      "Tags: 60-minutes-or-less, time-to-make, preparation, low-protein, dietary, low-sodium, low-in-something, number-of-servings\n",
      "Ingredients: gramflour, milk, cardamompowder, ghee, sugar, water, saffron\n",
      "Steps: ------------forsyrup------------ put sugar and water in a vessel and boil when sugar dissolves , add milk boil for 5 minutes till scum forms on top strain and return to fire add colour and boil till sticky but no thread has formed add cardamom powder and mix keep aside ------------forboondi---------- mix flour and milk to a smooth batter heat ghee in a heavy frying pan hold strainer on top with one hand with the other pour some batter all over the holes tap gently till all batter has fallen into hot ghee stir with another strainer and remove when light golden keep aside repeat for remaining batter immerse boondi in syrup drain any excess syrup spread in a large plate sprinkle few tsp hot water over it cover and keep for 5 minutes shape in laddoos with moist palms cool and keep open to dry , before storing in containers\n",
      "Similarity Score: 0.59\n",
      "--------------------------------------------------\n",
      "Recipe Name: ras malie\n",
      "Preparation Time: 20 minutes\n",
      "Tags: 30-minutes-or-less, time-to-make, course, main-ingredient, cuisine, preparation, desserts, eggs-dairy, asian, indian, refrigerator, dietary, low-sodium, high-calcium, high-in-something, low-in-something, equipment, number-of-servings\n",
      "Ingredients: powderedmilk, water, sugar, cardamompowder, pistachios, saffron, bakingpowder, eggs\n",
      "Steps: milk:soak the pistachio in water for few hours skin them and slice them keep aside in a pan pour water add milk powder , saffron , sugar and cardamom powder into this and mix well there should be no lumps put it on stove and let cook on low flame dumplings:in a bowl mix together the milk powder and baking powder pour the egg little-little into this , just enought to make a soft ball make round balls or oval shaped dumplings and keep covered under a damp cloth till the milk gets a boil when the milk gets a boil , put these balls into the milk and cook till they puff for about 3- 5 mins remove of the flame and leave to cool once cooled put the pistachio into this and keep in the fridge for few hours till cold\n",
      "Similarity Score: 0.58\n",
      "--------------------------------------------------\n",
      "Recipe Name: moong dal ka seera\n",
      "Preparation Time: 0 minutes\n",
      "Tags: 15-minutes-or-less, time-to-make, preparation, occasion, dietary, low-sodium, low-in-something, number-of-servings\n",
      "Ingredients: mungdal, sugar, ghee, saffron, cardamompowder, water\n",
      "Steps: soak the dal for 5-6 hours wash and remove the skins well grind dal fine either in a stone grinder or electric grinder or mixie use as little water as possible put sugar and water in a pan and put to boil once sugar dissolve add a few tblsp of milk as the syrup boils the scum will rise remove with a strain further boil till the syrup become sticky between the fingers keep aside heat the ghee in a heavy kadai and add dal keep stirring rigorously to avoid burning once the dal stops sticking to the vessel , stir gradually till golden brown , and ghee begins to separate pour the hot syrup , add elaichi and dissolved saffron stir very carefully , not allowing hand to be scalded cook slowly till all water is absorbed decorate with chopped dry fruit serve hot especially on a cold day\n",
      "Similarity Score: 0.55\n",
      "--------------------------------------------------\n",
      "Recipe Name: carrot halwa\n",
      "Preparation Time: 25 minutes\n",
      "Tags: 30-minutes-or-less, time-to-make, course, main-ingredient, cuisine, preparation, occasion, for-large-groups, desserts, vegetables, asian, indian, dinner-party, fall, vegetarian, winter, stove-top, dietary, seasonal, carrots, equipment, number-of-servings\n",
      "Ingredients: carrot, milk, sugar, cardamompowder, saffron, orangefoodcoloring, ghee\n",
      "Steps: peel and grate carrots put milk and carrots in a heavy saucepan boil till thick , stirring occasionally once it starts thickening , stir continuously add sugar and cook further till thickens add ghee , elaichi , saffron and colour stir on low heat till the mixture collects in a soft ball or the ghee oozes out serve hot , decorated with a chopped almond or pista\n",
      "Similarity Score: 0.55\n",
      "--------------------------------------------------\n",
      "Recipe Name: kalakand\n",
      "Preparation Time: 25 minutes\n",
      "Tags: 30-minutes-or-less, time-to-make, course, cuisine, preparation, occasion, desserts, asian, indian, easy, beginner-cook, dinner-party, cookies-and-brownies, bar-cookies, dietary, high-calcium, inexpensive, high-in-something, taste-mood, sweet\n",
      "Ingredients: powderedmilk, ricottacheese, sugar, butter, cardamompowder, cashewnuts, almonds, saffron\n",
      "Steps: place milk powder , sugar , and ricotta cheese in microwave-able bowl and mix well add butter and mix thoroughly , the mixture should be smooth with very thick consistency microwave it for 5 minutes stir it , again microwave it for 4 minutes repeat step 4 until it becomes golden brown in color mix 2-3 threads of saffron allow it to cool , garnish it with cardamom powder , cashew nuts , and almonds serve warm or cool\n",
      "Similarity Score: 0.51\n",
      "--------------------------------------------------\n",
      "Recipe Name: besan burfi  sweet gram flour squares\n",
      "Preparation Time: 30 minutes\n",
      "Tags: 30-minutes-or-less, time-to-make, course, cuisine, preparation, occasion, desserts, asian, indian, finger-food, kid-friendly, vegetarian, candy, cookies-and-brownies, bar-cookies, stove-top, dietary, equipment, number-of-servings, presentation\n",
      "Ingredients: coconut, gramflour, sugar, ghee, cashews, water, cardamompowder, saffron\n",
      "Steps: grease a shallow dish / pan with some ghee in a frying pan , heat 1 tablespoon of ghee and fry cashewnuts until golden remove to the same ghee , gradually add the besan , stirring gently fry on low heat until golden brown remove and set aside now in the same frying pan , heat 1 cup water and add sugar boil on low heat until the sugar dissolves increase flame and boil briskly until a thick syrup is obtained add the dessicated coconut and fried besan stir until the mixture solidifies and starts to leave the sides of the pan add the rest of the ghee and saffron mix well and allow to cook for a couple of minutes remove from flame , add the nuts , cardamom powder and mix well pour into the greased dish , and while still warm , cut into 1 5 inch squares cool completely and store in an airtight tin\n",
      "Similarity Score: 0.50\n",
      "--------------------------------------------------\n",
      "None\n"
     ]
    }
   ],
   "source": [
    "user_ingredients =['milk', 'flour', 'powderedmilk', 'self-risingflour', 'ghee', 'sugar', 'water', 'rosewater', 'saffron', 'cardamompowder', 'butter']\n",
    "suggested_recipes = suggest_recipes(user_ingredients)\n",
    "print(suggested_recipes)"
   ]
  },
  {
   "cell_type": "code",
   "execution_count": 30,
   "metadata": {},
   "outputs": [],
   "source": [
    "#content based filter code for that returns recipe id\n",
    "def get_content_rec(recipe_id, top_n):\n",
    "    \n",
    "    index = recipes[recipes['id'] == recipe_id].index[0]\n",
    "    input_vector = tfidf_matrix[index]\n",
    "    similarity_scores = cosine_similarity(input_vector, tfidf_matrix).flatten()\n",
    "    similar_indices = similarity_scores.argsort()[::-1][1:top_n + 1]\n",
    "    recommendations = recipes.iloc[similar_indices]['id'].values\n",
    "    return recommendations\n",
    "    "
   ]
  },
  {
   "cell_type": "code",
   "execution_count": 31,
   "metadata": {},
   "outputs": [
    {
     "data": {
      "text/plain": [
       "array([266606, 418516,  35397, 422400, 281234,  77505,  26117,   9022,\n",
       "       224068,  80832], dtype=int64)"
      ]
     },
     "execution_count": 31,
     "metadata": {},
     "output_type": "execute_result"
    }
   ],
   "source": [
    "get_content_rec(137739, 10)"
   ]
  },
  {
   "cell_type": "markdown",
   "metadata": {},
   "source": [
    "Making Collaborative Filtering Model"
   ]
  },
  {
   "cell_type": "code",
   "execution_count": 40,
   "metadata": {},
   "outputs": [
    {
     "name": "stdout",
     "output_type": "stream",
     "text": [
      "<class 'pandas.core.frame.DataFrame'>\n",
      "RangeIndex: 1132367 entries, 0 to 1132366\n",
      "Data columns (total 5 columns):\n",
      " #   Column     Non-Null Count    Dtype \n",
      "---  ------     --------------    ----- \n",
      " 0   user_id    1132367 non-null  int64 \n",
      " 1   recipe_id  1132367 non-null  int64 \n",
      " 2   date       1132367 non-null  object\n",
      " 3   rating     1132367 non-null  int64 \n",
      " 4   review     1132198 non-null  object\n",
      "dtypes: int64(3), object(2)\n",
      "memory usage: 43.2+ MB\n"
     ]
    }
   ],
   "source": [
    "user_interaction.info()"
   ]
  },
  {
   "cell_type": "code",
   "execution_count": 41,
   "metadata": {},
   "outputs": [
    {
     "data": {
      "text/plain": [
       "user_id      0\n",
       "recipe_id    0\n",
       "date         0\n",
       "rating       0\n",
       "review       0\n",
       "dtype: int64"
      ]
     },
     "execution_count": 41,
     "metadata": {},
     "output_type": "execute_result"
    }
   ],
   "source": [
    "user_interaction= user_interaction.dropna()\n",
    "user_interaction.isna().sum()"
   ]
  },
  {
   "cell_type": "code",
   "execution_count": 42,
   "metadata": {},
   "outputs": [
    {
     "data": {
      "text/html": [
       "<div>\n",
       "<style scoped>\n",
       "    .dataframe tbody tr th:only-of-type {\n",
       "        vertical-align: middle;\n",
       "    }\n",
       "\n",
       "    .dataframe tbody tr th {\n",
       "        vertical-align: top;\n",
       "    }\n",
       "\n",
       "    .dataframe thead th {\n",
       "        text-align: right;\n",
       "    }\n",
       "</style>\n",
       "<table border=\"1\" class=\"dataframe\">\n",
       "  <thead>\n",
       "    <tr style=\"text-align: right;\">\n",
       "      <th></th>\n",
       "      <th>user_id</th>\n",
       "      <th>recipe_id</th>\n",
       "      <th>date</th>\n",
       "      <th>rating</th>\n",
       "      <th>review</th>\n",
       "    </tr>\n",
       "  </thead>\n",
       "  <tbody>\n",
       "    <tr>\n",
       "      <th>0</th>\n",
       "      <td>38094</td>\n",
       "      <td>40893</td>\n",
       "      <td>2003-02-17</td>\n",
       "      <td>4</td>\n",
       "      <td>Great with a salad. Cooked on top of stove for...</td>\n",
       "    </tr>\n",
       "    <tr>\n",
       "      <th>1</th>\n",
       "      <td>1293707</td>\n",
       "      <td>40893</td>\n",
       "      <td>2011-12-21</td>\n",
       "      <td>5</td>\n",
       "      <td>So simple, so delicious! Great for chilly fall...</td>\n",
       "    </tr>\n",
       "    <tr>\n",
       "      <th>2</th>\n",
       "      <td>8937</td>\n",
       "      <td>44394</td>\n",
       "      <td>2002-12-01</td>\n",
       "      <td>4</td>\n",
       "      <td>This worked very well and is EASY.  I used not...</td>\n",
       "    </tr>\n",
       "    <tr>\n",
       "      <th>3</th>\n",
       "      <td>126440</td>\n",
       "      <td>85009</td>\n",
       "      <td>2010-02-27</td>\n",
       "      <td>5</td>\n",
       "      <td>I made the Mexican topping and took it to bunk...</td>\n",
       "    </tr>\n",
       "    <tr>\n",
       "      <th>4</th>\n",
       "      <td>57222</td>\n",
       "      <td>85009</td>\n",
       "      <td>2011-10-01</td>\n",
       "      <td>5</td>\n",
       "      <td>Made the cheddar bacon topping, adding a sprin...</td>\n",
       "    </tr>\n",
       "  </tbody>\n",
       "</table>\n",
       "</div>"
      ],
      "text/plain": [
       "   user_id  recipe_id        date  rating  \\\n",
       "0    38094      40893  2003-02-17       4   \n",
       "1  1293707      40893  2011-12-21       5   \n",
       "2     8937      44394  2002-12-01       4   \n",
       "3   126440      85009  2010-02-27       5   \n",
       "4    57222      85009  2011-10-01       5   \n",
       "\n",
       "                                              review  \n",
       "0  Great with a salad. Cooked on top of stove for...  \n",
       "1  So simple, so delicious! Great for chilly fall...  \n",
       "2  This worked very well and is EASY.  I used not...  \n",
       "3  I made the Mexican topping and took it to bunk...  \n",
       "4  Made the cheddar bacon topping, adding a sprin...  "
      ]
     },
     "execution_count": 42,
     "metadata": {},
     "output_type": "execute_result"
    }
   ],
   "source": [
    "user_interaction.head()"
   ]
  },
  {
   "cell_type": "code",
   "execution_count": 32,
   "metadata": {},
   "outputs": [],
   "source": [
    "from surprise import SVD, Dataset, Reader\n",
    "from surprise.model_selection import train_test_split"
   ]
  },
  {
   "cell_type": "code",
   "execution_count": 33,
   "metadata": {},
   "outputs": [],
   "source": [
    "# Prepare data for Surprise library\n",
    "reader = Reader(rating_scale=(1, 5))\n",
    "data = Dataset.load_from_df(user_interaction[[\"user_id\", \"recipe_id\", \"rating\"]], reader)"
   ]
  },
  {
   "cell_type": "code",
   "execution_count": 34,
   "metadata": {},
   "outputs": [
    {
     "data": {
      "text/plain": [
       "<surprise.prediction_algorithms.matrix_factorization.SVD at 0x25788333010>"
      ]
     },
     "execution_count": 34,
     "metadata": {},
     "output_type": "execute_result"
    }
   ],
   "source": [
    "# Split data into training and testing\n",
    "trainset, testset = train_test_split(data, test_size=0.2)\n",
    "\n",
    "# Train SVD model\n",
    "model = SVD()\n",
    "model.fit(trainset)\n"
   ]
  },
  {
   "cell_type": "code",
   "execution_count": 35,
   "metadata": {},
   "outputs": [
    {
     "name": "stdout",
     "output_type": "stream",
     "text": [
      "user: 38094      item: 40893      r_ui = None   est = 4.77   {'was_impossible': False}\n"
     ]
    }
   ],
   "source": [
    "user_id = 38094\n",
    "recipe_id = 40893\n",
    "prediction = model.predict(user_id, recipe_id)\n",
    "print(prediction)"
   ]
  },
  {
   "cell_type": "markdown",
   "metadata": {},
   "source": [
    "Collaborative filtering function"
   ]
  },
  {
   "cell_type": "code",
   "execution_count": 37,
   "metadata": {},
   "outputs": [],
   "source": [
    "def recommend_cf(user_id, n=10):\n",
    "    predictions = [\n",
    "        (recipe_id, model.predict(user_id, recipe_id).est)\n",
    "        for recipe_id in recipes[\"id\"].unique()\n",
    "    ]\n",
    "    #Sort by predicted rating\n",
    "    predictions = sorted(predictions, key=lambda x: x[1], reverse=True)[:n]\n",
    "    result = [x[0] for x in predictions]\n",
    "    #print(f\"\\nFinal Recommendations for User-{user_id}:\")\n",
    "    #for rec in result:\n",
    "        #print(f\"Recipe ID: {rec[0]}, Predicted Rating: {rec[1]}\")\n",
    "    \n",
    "    return result\n",
    "\n"
   ]
  },
  {
   "cell_type": "code",
   "execution_count": 40,
   "metadata": {},
   "outputs": [
    {
     "data": {
      "text/plain": [
       "[74300, 19424, 486261, 204071, 51650, 100450, 31504, 73518, 67778, 169384]"
      ]
     },
     "execution_count": 40,
     "metadata": {},
     "output_type": "execute_result"
    }
   ],
   "source": [
    "recommend_cf(8937,10)"
   ]
  },
  {
   "cell_type": "markdown",
   "metadata": {},
   "source": [
    "Hybrid Approach"
   ]
  },
  {
   "cell_type": "code",
   "execution_count": 50,
   "metadata": {},
   "outputs": [
    {
     "data": {
      "text/html": [
       "<div>\n",
       "<style scoped>\n",
       "    .dataframe tbody tr th:only-of-type {\n",
       "        vertical-align: middle;\n",
       "    }\n",
       "\n",
       "    .dataframe tbody tr th {\n",
       "        vertical-align: top;\n",
       "    }\n",
       "\n",
       "    .dataframe thead th {\n",
       "        text-align: right;\n",
       "    }\n",
       "</style>\n",
       "<table border=\"1\" class=\"dataframe\">\n",
       "  <thead>\n",
       "    <tr style=\"text-align: right;\">\n",
       "      <th></th>\n",
       "      <th>name</th>\n",
       "      <th>id</th>\n",
       "      <th>minutes</th>\n",
       "      <th>contributor_id</th>\n",
       "      <th>submitted</th>\n",
       "      <th>tags</th>\n",
       "      <th>n_steps</th>\n",
       "      <th>steps</th>\n",
       "      <th>description</th>\n",
       "      <th>ingredients</th>\n",
       "      <th>n_ingredients</th>\n",
       "      <th>calories</th>\n",
       "      <th>fat</th>\n",
       "      <th>sugar</th>\n",
       "      <th>sodium</th>\n",
       "      <th>protein</th>\n",
       "      <th>saturated_fat</th>\n",
       "      <th>carbohydrates</th>\n",
       "      <th>ingredients_str</th>\n",
       "      <th>similarity</th>\n",
       "    </tr>\n",
       "  </thead>\n",
       "  <tbody>\n",
       "    <tr>\n",
       "      <th>0</th>\n",
       "      <td>arriba   baked winter squash mexican style</td>\n",
       "      <td>137739</td>\n",
       "      <td>55</td>\n",
       "      <td>47892</td>\n",
       "      <td>2005-09-16</td>\n",
       "      <td>[60-minutes-or-less, time-to-make, course, mai...</td>\n",
       "      <td>11</td>\n",
       "      <td>[make a choice and proceed with recipe, depend...</td>\n",
       "      <td>autumn is my favorite time of year to cook thi...</td>\n",
       "      <td>[wintersquash, mexicanseasoning, mixedspice, h...</td>\n",
       "      <td>7</td>\n",
       "      <td>51.5</td>\n",
       "      <td>0.0</td>\n",
       "      <td>13.0</td>\n",
       "      <td>0.0</td>\n",
       "      <td>2.0</td>\n",
       "      <td>0.0</td>\n",
       "      <td>4.0</td>\n",
       "      <td>wintersquash mexicanseasoning mixedspice honey...</td>\n",
       "      <td>1.000000</td>\n",
       "    </tr>\n",
       "    <tr>\n",
       "      <th>1</th>\n",
       "      <td>a bit different  breakfast pizza</td>\n",
       "      <td>31490</td>\n",
       "      <td>30</td>\n",
       "      <td>26278</td>\n",
       "      <td>2002-06-17</td>\n",
       "      <td>[30-minutes-or-less, time-to-make, course, mai...</td>\n",
       "      <td>9</td>\n",
       "      <td>[preheat oven to 425 degrees f, press dough in...</td>\n",
       "      <td>this recipe calls for the crust to be prebaked...</td>\n",
       "      <td>[preparedpizzacrust, sausagepatty, eggs, milk,...</td>\n",
       "      <td>6</td>\n",
       "      <td>173.4</td>\n",
       "      <td>18.0</td>\n",
       "      <td>0.0</td>\n",
       "      <td>17.0</td>\n",
       "      <td>22.0</td>\n",
       "      <td>35.0</td>\n",
       "      <td>1.0</td>\n",
       "      <td>preparedpizzacrust sausagepatty eggs milk salt...</td>\n",
       "      <td>0.000000</td>\n",
       "    </tr>\n",
       "    <tr>\n",
       "      <th>2</th>\n",
       "      <td>all in the kitchen  chili</td>\n",
       "      <td>112140</td>\n",
       "      <td>130</td>\n",
       "      <td>196586</td>\n",
       "      <td>2005-02-25</td>\n",
       "      <td>[time-to-make, course, preparation, main-dish,...</td>\n",
       "      <td>6</td>\n",
       "      <td>[brown ground beef in large pot, add chopped o...</td>\n",
       "      <td>this modified version of moms chili was a hit ...</td>\n",
       "      <td>[groundbeef, yellowonions, dicedtomatoes, toma...</td>\n",
       "      <td>13</td>\n",
       "      <td>269.8</td>\n",
       "      <td>22.0</td>\n",
       "      <td>32.0</td>\n",
       "      <td>48.0</td>\n",
       "      <td>39.0</td>\n",
       "      <td>27.0</td>\n",
       "      <td>5.0</td>\n",
       "      <td>groundbeef yellowonions dicedtomatoes tomatopa...</td>\n",
       "      <td>0.011526</td>\n",
       "    </tr>\n",
       "    <tr>\n",
       "      <th>3</th>\n",
       "      <td>alouette  potatoes</td>\n",
       "      <td>59389</td>\n",
       "      <td>45</td>\n",
       "      <td>68585</td>\n",
       "      <td>2003-04-14</td>\n",
       "      <td>[60-minutes-or-less, time-to-make, course, mai...</td>\n",
       "      <td>11</td>\n",
       "      <td>[place potatoes in a large pot of lightly salt...</td>\n",
       "      <td>this is a super easy great tasting make ahead ...</td>\n",
       "      <td>[spreadablecheesewithgarlicandherbs, newpotato...</td>\n",
       "      <td>11</td>\n",
       "      <td>368.1</td>\n",
       "      <td>17.0</td>\n",
       "      <td>10.0</td>\n",
       "      <td>2.0</td>\n",
       "      <td>14.0</td>\n",
       "      <td>8.0</td>\n",
       "      <td>20.0</td>\n",
       "      <td>spreadablecheesewithgarlicandherbs newpotatoes...</td>\n",
       "      <td>0.037584</td>\n",
       "    </tr>\n",
       "    <tr>\n",
       "      <th>4</th>\n",
       "      <td>amish  tomato ketchup  for canning</td>\n",
       "      <td>44061</td>\n",
       "      <td>190</td>\n",
       "      <td>41706</td>\n",
       "      <td>2002-10-25</td>\n",
       "      <td>[weeknight, time-to-make, course, main-ingredi...</td>\n",
       "      <td>5</td>\n",
       "      <td>[mix all ingredients&amp; boil for 2 1 / 2 hours ,...</td>\n",
       "      <td>my dhs amish mother raised him on this recipe ...</td>\n",
       "      <td>[tomatojuice, applecidervinegar, sugar, salt, ...</td>\n",
       "      <td>8</td>\n",
       "      <td>352.9</td>\n",
       "      <td>1.0</td>\n",
       "      <td>337.0</td>\n",
       "      <td>23.0</td>\n",
       "      <td>3.0</td>\n",
       "      <td>0.0</td>\n",
       "      <td>28.0</td>\n",
       "      <td>tomatojuice applecidervinegar sugar salt peppe...</td>\n",
       "      <td>0.011258</td>\n",
       "    </tr>\n",
       "  </tbody>\n",
       "</table>\n",
       "</div>"
      ],
      "text/plain": [
       "                                         name      id  minutes  \\\n",
       "0  arriba   baked winter squash mexican style  137739       55   \n",
       "1            a bit different  breakfast pizza   31490       30   \n",
       "2                   all in the kitchen  chili  112140      130   \n",
       "3                          alouette  potatoes   59389       45   \n",
       "4          amish  tomato ketchup  for canning   44061      190   \n",
       "\n",
       "   contributor_id   submitted  \\\n",
       "0           47892  2005-09-16   \n",
       "1           26278  2002-06-17   \n",
       "2          196586  2005-02-25   \n",
       "3           68585  2003-04-14   \n",
       "4           41706  2002-10-25   \n",
       "\n",
       "                                                tags  n_steps  \\\n",
       "0  [60-minutes-or-less, time-to-make, course, mai...       11   \n",
       "1  [30-minutes-or-less, time-to-make, course, mai...        9   \n",
       "2  [time-to-make, course, preparation, main-dish,...        6   \n",
       "3  [60-minutes-or-less, time-to-make, course, mai...       11   \n",
       "4  [weeknight, time-to-make, course, main-ingredi...        5   \n",
       "\n",
       "                                               steps  \\\n",
       "0  [make a choice and proceed with recipe, depend...   \n",
       "1  [preheat oven to 425 degrees f, press dough in...   \n",
       "2  [brown ground beef in large pot, add chopped o...   \n",
       "3  [place potatoes in a large pot of lightly salt...   \n",
       "4  [mix all ingredients& boil for 2 1 / 2 hours ,...   \n",
       "\n",
       "                                         description  \\\n",
       "0  autumn is my favorite time of year to cook thi...   \n",
       "1  this recipe calls for the crust to be prebaked...   \n",
       "2  this modified version of moms chili was a hit ...   \n",
       "3  this is a super easy great tasting make ahead ...   \n",
       "4  my dhs amish mother raised him on this recipe ...   \n",
       "\n",
       "                                         ingredients  n_ingredients  calories  \\\n",
       "0  [wintersquash, mexicanseasoning, mixedspice, h...              7      51.5   \n",
       "1  [preparedpizzacrust, sausagepatty, eggs, milk,...              6     173.4   \n",
       "2  [groundbeef, yellowonions, dicedtomatoes, toma...             13     269.8   \n",
       "3  [spreadablecheesewithgarlicandherbs, newpotato...             11     368.1   \n",
       "4  [tomatojuice, applecidervinegar, sugar, salt, ...              8     352.9   \n",
       "\n",
       "    fat  sugar  sodium  protein  saturated_fat  carbohydrates  \\\n",
       "0   0.0   13.0     0.0      2.0            0.0            4.0   \n",
       "1  18.0    0.0    17.0     22.0           35.0            1.0   \n",
       "2  22.0   32.0    48.0     39.0           27.0            5.0   \n",
       "3  17.0   10.0     2.0     14.0            8.0           20.0   \n",
       "4   1.0  337.0    23.0      3.0            0.0           28.0   \n",
       "\n",
       "                                     ingredients_str  similarity  \n",
       "0  wintersquash mexicanseasoning mixedspice honey...    1.000000  \n",
       "1  preparedpizzacrust sausagepatty eggs milk salt...    0.000000  \n",
       "2  groundbeef yellowonions dicedtomatoes tomatopa...    0.011526  \n",
       "3  spreadablecheesewithgarlicandherbs newpotatoes...    0.037584  \n",
       "4  tomatojuice applecidervinegar sugar salt peppe...    0.011258  "
      ]
     },
     "execution_count": 50,
     "metadata": {},
     "output_type": "execute_result"
    }
   ],
   "source": [
    "recipes.head()"
   ]
  },
  {
   "cell_type": "code",
   "execution_count": 51,
   "metadata": {},
   "outputs": [
    {
     "data": {
      "text/html": [
       "<div>\n",
       "<style scoped>\n",
       "    .dataframe tbody tr th:only-of-type {\n",
       "        vertical-align: middle;\n",
       "    }\n",
       "\n",
       "    .dataframe tbody tr th {\n",
       "        vertical-align: top;\n",
       "    }\n",
       "\n",
       "    .dataframe thead th {\n",
       "        text-align: right;\n",
       "    }\n",
       "</style>\n",
       "<table border=\"1\" class=\"dataframe\">\n",
       "  <thead>\n",
       "    <tr style=\"text-align: right;\">\n",
       "      <th></th>\n",
       "      <th>user_id</th>\n",
       "      <th>recipe_id</th>\n",
       "      <th>date</th>\n",
       "      <th>rating</th>\n",
       "      <th>review</th>\n",
       "    </tr>\n",
       "  </thead>\n",
       "  <tbody>\n",
       "    <tr>\n",
       "      <th>0</th>\n",
       "      <td>38094</td>\n",
       "      <td>40893</td>\n",
       "      <td>2003-02-17</td>\n",
       "      <td>4</td>\n",
       "      <td>Great with a salad. Cooked on top of stove for...</td>\n",
       "    </tr>\n",
       "    <tr>\n",
       "      <th>1</th>\n",
       "      <td>1293707</td>\n",
       "      <td>40893</td>\n",
       "      <td>2011-12-21</td>\n",
       "      <td>5</td>\n",
       "      <td>So simple, so delicious! Great for chilly fall...</td>\n",
       "    </tr>\n",
       "    <tr>\n",
       "      <th>2</th>\n",
       "      <td>8937</td>\n",
       "      <td>44394</td>\n",
       "      <td>2002-12-01</td>\n",
       "      <td>4</td>\n",
       "      <td>This worked very well and is EASY.  I used not...</td>\n",
       "    </tr>\n",
       "    <tr>\n",
       "      <th>3</th>\n",
       "      <td>126440</td>\n",
       "      <td>85009</td>\n",
       "      <td>2010-02-27</td>\n",
       "      <td>5</td>\n",
       "      <td>I made the Mexican topping and took it to bunk...</td>\n",
       "    </tr>\n",
       "    <tr>\n",
       "      <th>4</th>\n",
       "      <td>57222</td>\n",
       "      <td>85009</td>\n",
       "      <td>2011-10-01</td>\n",
       "      <td>5</td>\n",
       "      <td>Made the cheddar bacon topping, adding a sprin...</td>\n",
       "    </tr>\n",
       "  </tbody>\n",
       "</table>\n",
       "</div>"
      ],
      "text/plain": [
       "   user_id  recipe_id        date  rating  \\\n",
       "0    38094      40893  2003-02-17       4   \n",
       "1  1293707      40893  2011-12-21       5   \n",
       "2     8937      44394  2002-12-01       4   \n",
       "3   126440      85009  2010-02-27       5   \n",
       "4    57222      85009  2011-10-01       5   \n",
       "\n",
       "                                              review  \n",
       "0  Great with a salad. Cooked on top of stove for...  \n",
       "1  So simple, so delicious! Great for chilly fall...  \n",
       "2  This worked very well and is EASY.  I used not...  \n",
       "3  I made the Mexican topping and took it to bunk...  \n",
       "4  Made the cheddar bacon topping, adding a sprin...  "
      ]
     },
     "execution_count": 51,
     "metadata": {},
     "output_type": "execute_result"
    }
   ],
   "source": [
    "user_interaction.head()"
   ]
  },
  {
   "cell_type": "markdown",
   "metadata": {},
   "source": [
    "Simple CBF - CF reccomendation based on user_id (experimental)"
   ]
  },
  {
   "cell_type": "code",
   "execution_count": 52,
   "metadata": {},
   "outputs": [],
   "source": [
    "def get_hybrid_recommendations(user_id, recipe_id, top_n):\n",
    "    content_based_recommendations = get_content_rec(recipe_id, top_n)\n",
    "    collaborative_filtering_recommendations = recommend_cf(user_id, top_n)\n",
    "    hybrid_recommendations = list(set(content_based_recommendations + collaborative_filtering_recommendations))\n",
    "    return hybrid_recommendations[:top_n]"
   ]
  },
  {
   "cell_type": "code",
   "execution_count": 53,
   "metadata": {},
   "outputs": [
    {
     "name": "stdout",
     "output_type": "stream",
     "text": [
      "Hybrid Recommendations for User 8937:\n",
      "1. Recipe ID: 739235\n",
      "2. Recipe ID: 516708\n",
      "3. Recipe ID: 9669\n",
      "4. Recipe ID: 180996\n",
      "5. Recipe ID: 416173\n",
      "6. Recipe ID: 208559\n",
      "7. Recipe ID: 274870\n",
      "8. Recipe ID: 145078\n",
      "9. Recipe ID: 529912\n",
      "10. Recipe ID: 452511\n"
     ]
    }
   ],
   "source": [
    "user_id = 8937\n",
    "top_n = 10\n",
    "recipe_id = 137739\t\n",
    "hybrid_recommendations = get_hybrid_recommendations(user_id, recipe_id, top_n)\n",
    "\n",
    "\n",
    "print(f\"Hybrid Recommendations for User {user_id}:\")\n",
    "for i, recommendation in enumerate(hybrid_recommendations):\n",
    "    print(f\"{i + 1}. Recipe ID: {recommendation}\")"
   ]
  },
  {
   "cell_type": "code",
   "execution_count": 54,
   "metadata": {},
   "outputs": [],
   "source": [
    "\n",
    "import matplotlib.pyplot as plt"
   ]
  },
  {
   "cell_type": "code",
   "execution_count": 55,
   "metadata": {},
   "outputs": [],
   "source": [
    "def visualize_recommendations(user_id, n):\n",
    "    recommendations = recommend_cf(user_id, n)   \n",
    "   \n",
    "    predicted_ratings = [model.predict(user_id, recipe_id).est for recipe_id in recommendations]    \n",
    "    if len(predicted_ratings) == 0:\n",
    "        print(\"No valid predictions.\")\n",
    "        return    \n",
    "    \n",
    "    print(f\"Recommendations: {recommendations}\")\n",
    "    print(f\"Predicted Ratings: {predicted_ratings}\")    \n",
    "    plt.figure(figsize=(10, 6))\n",
    "    plt.scatter(predicted_ratings, recommendations, color='skyblue')\n",
    "    plt.xlabel('Predicted Rating')\n",
    "    plt.ylabel('Recipe ID')\n",
    "    plt.title(f'Top {n} Recipe Recommendations for User {user_id}')\n",
    "    plt.gca().invert_yaxis() \n",
    "    plt.show()\n"
   ]
  },
  {
   "cell_type": "code",
   "execution_count": 56,
   "metadata": {},
   "outputs": [
    {
     "name": "stdout",
     "output_type": "stream",
     "text": [
      "Recommendations: [8264, 33995, 494515, 94308, 134939, 131054, 118961, 647, 515167, 104158, 29441, 66241, 486261, 132052, 51351, 274110, 163311, 134051, 495124, 95017, 56453, 29635, 26912, 12648, 37841, 223971, 13285, 14257, 16655, 18914, 187415, 124617, 19537, 474520, 494560, 4218, 162841, 64895, 69443, 295835, 97243, 179903, 89007, 188042, 74301, 88939, 411937, 113193, 92016, 486496]\n",
      "Predicted Ratings: [4.901656290810636, 4.865225090348787, 4.844833464009258, 4.826694499076529, 4.825281028774624, 4.820275387084812, 4.819744481827119, 4.813128039343377, 4.812585529125182, 4.811978163010222, 4.810984081738378, 4.810069907509898, 4.809969710245558, 4.807897489341183, 4.802590403263975, 4.8020803134338745, 4.80021360365036, 4.800079208404688, 4.800027936560975, 4.799425944875929, 4.794177858633747, 4.791262044486446, 4.790289532359505, 4.790262069670345, 4.789568085932674, 4.788440800567573, 4.786779351514233, 4.784555569256219, 4.782186089744239, 4.781669141205698, 4.781571485092248, 4.781171747125833, 4.780254027090025, 4.780098661510068, 4.7782721831506345, 4.778155254467819, 4.776587537919543, 4.773998457504882, 4.772290113695056, 4.770730478653011, 4.76787836487117, 4.767455850194018, 4.7671339504007815, 4.766226780559971, 4.765941909998265, 4.764555040783736, 4.762957519099942, 4.759694667344435, 4.758768145431127, 4.758195182567823]\n"
     ]
    },
    {
     "data": {
      "image/png": "[encoded data removed]",
      "text/plain": [
       "<Figure size 1000x600 with 1 Axes>"
      ]
     },
     "metadata": {},
     "output_type": "display_data"
    }
   ],
   "source": [
    "user_id = 8937\n",
    "\n",
    "visualize_recommendations(user_id, 50)"
   ]
  },
  {
   "cell_type": "markdown",
   "metadata": {},
   "source": [
    "Working towards Hybrid Recommendation : NLP integration along with Ingredient and Constraint based CBF with CF."
   ]
  },
  {
   "cell_type": "code",
   "execution_count": 57,
   "metadata": {},
   "outputs": [
    {
     "data": {
      "text/plain": [
       "0          Great with a salad. Cooked on top of stove for...\n",
       "1          So simple, so delicious! Great for chilly fall...\n",
       "2          This worked very well and is EASY.  I used not...\n",
       "3          I made the Mexican topping and took it to bunk...\n",
       "4          Made the cheddar bacon topping, adding a sprin...\n",
       "                                 ...                        \n",
       "1132362    Another approach is to start making sauce with...\n",
       "1132363    These were so delicious!  My husband and I tru...\n",
       "1132364    WOW!  Sometimes I don't take the time to rate ...\n",
       "1132365    Very good!  I used regular port as well.  The ...\n",
       "1132366    I am so glad I googled and found this here. Th...\n",
       "Name: review, Length: 1132198, dtype: object"
      ]
     },
     "execution_count": 57,
     "metadata": {},
     "output_type": "execute_result"
    }
   ],
   "source": [
    "user_interaction[\"review\"]"
   ]
  },
  {
   "cell_type": "code",
   "execution_count": 41,
   "metadata": {},
   "outputs": [],
   "source": [
    "def extract_preferences(tags):\n",
    "    dietary_restrictions = []\n",
    "    cuisines = []\n",
    "\n",
    "    dietary_keywords = ['vegetarian', 'vegan', 'gluten-free', 'dairy-free', 'low-carb', 'keto']\n",
    "    cuisine_keywords = ['italian', 'mexican', 'chinese', 'indian', 'french', 'thai', 'japanese', 'american', 'greek', 'spanish']\n",
    "\n",
    "    for tag in tags:\n",
    "        tag_lower = tag.lower()\n",
    "        for keyword in dietary_keywords:\n",
    "            if keyword in tag_lower:\n",
    "                dietary_restrictions.append(keyword)\n",
    "        for keyword in cuisine_keywords:\n",
    "            if keyword in tag_lower:\n",
    "                cuisines.append(keyword)\n",
    "\n",
    "    return dietary_restrictions, cuisines"
   ]
  },
  {
   "cell_type": "code",
   "execution_count": 42,
   "metadata": {},
   "outputs": [],
   "source": [
    "# Preprocess the recipes dataframe\n",
    "\n",
    "recipes['dietary_preferences'], recipes['cuisine_preferences'] = zip(*recipes['tags'].apply(extract_preferences))\n"
   ]
  },
  {
   "cell_type": "code",
   "execution_count": 92,
   "metadata": {},
   "outputs": [
    {
     "data": {
      "text/plain": [
       "recipe_id\n",
       "2886     1609\n",
       "27208    1601\n",
       "89204    1579\n",
       "39087    1448\n",
       "67256    1322\n",
       "54257    1305\n",
       "22782    1234\n",
       "32204    1220\n",
       "69173     997\n",
       "68955     904\n",
       "Name: count, dtype: int64"
      ]
     },
     "execution_count": 92,
     "metadata": {},
     "output_type": "execute_result"
    }
   ],
   "source": [
    "#print top 10 most popular recipe from user_interaction dataset\n",
    "user_interaction['recipe_id'].value_counts().head(10)\n"
   ]
  },
  {
   "cell_type": "code",
   "execution_count": 65,
   "metadata": {},
   "outputs": [],
   "source": [
    "from nltk.tokenize import word_tokenize\n",
    "from sklearn.feature_extraction.text import TfidfVectorizer\n",
    "\n",
    "# Tokenize descriptions\n",
    "recipes['description_tokens'] = recipes['description'].apply(word_tokenize)\n",
    "\n",
    "# Vectorize ingredients or reviews using TF-IDF\n",
    "tfidf = TfidfVectorizer(max_features=5000)  \n",
    "tfidf_matrix = tfidf.fit_transform(recipes['description'])\n",
    "\n"
   ]
  },
  {
   "cell_type": "code",
   "execution_count": 70,
   "metadata": {},
   "outputs": [],
   "source": [
    "#Tokenize reviews\n",
    "user_interaction['review_tokens'] = user_interaction['review'].apply(word_tokenize)\n",
    "\n",
    "# Vectorize reviews using TF-IDF\n",
    "tfidf = TfidfVectorizer(max_features=5000)  # Limit vocabulary to 5000 terms\n",
    "tfidf_matrix = tfidf.fit_transform(user_interaction['review'])"
   ]
  },
  {
   "cell_type": "markdown",
   "metadata": {},
   "source": [
    "TF-IDF approach to NLP preference extraction."
   ]
  },
  {
   "cell_type": "code",
   "execution_count": 43,
   "metadata": {},
   "outputs": [],
   "source": [
    "\n",
    "user_reviews = user_interaction.groupby('user_id')['review'].apply(lambda x: ' '.join(x.fillna(''))).reset_index()"
   ]
  },
  {
   "cell_type": "code",
   "execution_count": 55,
   "metadata": {},
   "outputs": [
    {
     "data": {
      "text/html": [
       "<div>\n",
       "<style scoped>\n",
       "    .dataframe tbody tr th:only-of-type {\n",
       "        vertical-align: middle;\n",
       "    }\n",
       "\n",
       "    .dataframe tbody tr th {\n",
       "        vertical-align: top;\n",
       "    }\n",
       "\n",
       "    .dataframe thead th {\n",
       "        text-align: right;\n",
       "    }\n",
       "</style>\n",
       "<table border=\"1\" class=\"dataframe\">\n",
       "  <thead>\n",
       "    <tr style=\"text-align: right;\">\n",
       "      <th></th>\n",
       "      <th>user_id</th>\n",
       "      <th>review</th>\n",
       "    </tr>\n",
       "  </thead>\n",
       "  <tbody>\n",
       "    <tr>\n",
       "      <th>0</th>\n",
       "      <td>1533</td>\n",
       "      <td>WOW this was wonderful. Your mouth just explod...</td>\n",
       "    </tr>\n",
       "    <tr>\n",
       "      <th>1</th>\n",
       "      <td>1535</td>\n",
       "      <td>After being w/o power all day, it came back on...</td>\n",
       "    </tr>\n",
       "    <tr>\n",
       "      <th>2</th>\n",
       "      <td>1581</td>\n",
       "      <td>I also have done this for years, I think I rea...</td>\n",
       "    </tr>\n",
       "    <tr>\n",
       "      <th>3</th>\n",
       "      <td>1634</td>\n",
       "      <td>Very Good ... and Thank You. Learning to flavo...</td>\n",
       "    </tr>\n",
       "    <tr>\n",
       "      <th>4</th>\n",
       "      <td>1676</td>\n",
       "      <td>Used 10 drops Tobasco instead of cayenne peppe...</td>\n",
       "    </tr>\n",
       "  </tbody>\n",
       "</table>\n",
       "</div>"
      ],
      "text/plain": [
       "   user_id                                             review\n",
       "0     1533  WOW this was wonderful. Your mouth just explod...\n",
       "1     1535  After being w/o power all day, it came back on...\n",
       "2     1581  I also have done this for years, I think I rea...\n",
       "3     1634  Very Good ... and Thank You. Learning to flavo...\n",
       "4     1676  Used 10 drops Tobasco instead of cayenne peppe..."
      ]
     },
     "execution_count": 55,
     "metadata": {},
     "output_type": "execute_result"
    }
   ],
   "source": [
    "user_reviews.head()"
   ]
  },
  {
   "cell_type": "code",
   "execution_count": 60,
   "metadata": {},
   "outputs": [
    {
     "name": "stdout",
     "output_type": "stream",
     "text": [
      "<class 'pandas.core.frame.DataFrame'>\n",
      "RangeIndex: 226570 entries, 0 to 226569\n",
      "Data columns (total 2 columns):\n",
      " #   Column   Non-Null Count   Dtype \n",
      "---  ------   --------------   ----- \n",
      " 0   user_id  226570 non-null  int64 \n",
      " 1   review   226570 non-null  object\n",
      "dtypes: int64(1), object(1)\n",
      "memory usage: 3.5+ MB\n"
     ]
    }
   ],
   "source": [
    "user_reviews.info()"
   ]
  },
  {
   "cell_type": "code",
   "execution_count": 61,
   "metadata": {},
   "outputs": [
    {
     "data": {
      "text/plain": [
       "'WOW this was wonderful. Your mouth just explodes with flavor. I would love to true using sole to. I served it sauteed spinach with bacon. This was just marvelous thanks so much whoever you are. Great recipe for the contest worth 10 stars. Good Luck. I made this with noodles.\\r\\nI also left out the grapes, (i don\\'t like warm grapes) It turned out lovely. I love tarragon and thats why i picked this dish. Going to add to my cookbook, recipes to make over and over. excellent. Derf, My husband says 100 stars, he drooled and whinned when the were all gone. Great taste, I never changed a thing. I served it with my bbq oven chicken and Dressed Peas by Bergy #14953 great meal. Thanks so much. Its a keeper or my husband will whine. tc Lennie these have great flavor I served them with the Easy Chutney Chicken Kebabs and a tossed green salad..wonderful thanks. I was a little worried about trying this, but it worked. I used the round steak and had no trouble at all, The sause was a little thin and i just added half a 6 1/2 oz. can tomato paste. Worked perfect. Thanks Cher. Hi Star, I liked this I did cut the brown sugar to 2 tbsps. and instead of garlic powder I added 4 cloves , crushed, and a sprinkle of poutry seasoning, and a shot of tabasco. DH loved it. Great recipe Star and a keeper. This was really good, everyone liked and wan\\'ts the recipe, my husband gobbled up the little leftovers like a starving man. Thanks, its a keeper. This was wonderful, Very easy to put together. I followed the recipe to a T and, Everyone at the dinner party enjoyed it.\\r\\nI will make this again and still no changes. there is no need its perfect.\\r\\nThanks so much for suggesting this and Jen T\\'s recipe as well.\\r\\nIts a keeper. WOW Mean this was excellent.\\r\\nI made it just as stated, the flavor was amazing. I served it with a plain garden salad. Its a keeper. Thanks OUTSTANDING was the only comments my guests made, Their mouths were busy devouring the pie.\\r\\nI used an egg wash and thats the only thing I added to the recipe. I was hoping for leftovers but there was none :-( Excellent recipe. Thanks so much. I made this last sunday and doubled the recipe..and served it with french vanilla icecream in a cookie cup.\\r\\nTebo they raved over it. If they only knew how easy this recipe was but ssssssshhh Im not tellng lol great recipe Tebo. Thanks so much. Dancer^ This was wonderful, I doubled the recipe and served it to a bunch of kids. It went very quickly. Thanks Dragon, great recipe. Dancer^ This was wonderful, then men went crzy over it, I pureed the cottage cheese because the would have reacted badly if they knew it was in there. but thats the only thing i changed. It was a hit. It served 12 easily with the other casseroles. Thanks so much for posting. Its a keeper. I make this all the time, I triple the recipe, much better the store bought. thanks. If I could give this a 10 I would, it was perfect. I cut the recipe down. I have a program that does it for you. It came out perfect great flavor. My husband is an onion freak so this fit him perfect. We had onion onion left and he took it to work. he armed it in the mircowave and it turned out great. Thanks Sharon great recipe. This was wonderful, great flavour and easy to make, like miller I left out the salat and added more garlic. Excellent!! thanks. Kat WOW these turned out great. I made a double batch and frozen one pan.\\r\\nThese firmed up nicely and were easy to prepare.\\r\\nI\\'m adding these to my favorites thanks so much for posting. This is amazing, everyone enjoyed it.\\r\\nWe all loved the crunch.\\r\\nI had 2 cans of pumpkin so I was all set.\\r\\nThanks for such a great treat.\\r\\nIts a keeper. OH my, this were wonderful. I had leftover ham and I served it with roasted potatoes and baked pork chops, and a small tossed salad.\\r\\nVery easy to make. Thanks yooper, great recipe, its a keeper. I thought I had died and gone to heaven with these.\\r\\nEveryone raved, and my email was busy today sending them the recipes. \\r\\nThe guys said it would be great for their hockey night and the ladies agreed. \\r\\nI used my own crepe recipe but that was the only change. I did double this one, lucky me or I would have been killed.\\r\\nThese will be made quit of here and a few other house as well. Thanks again. Dragon this was so good. I did use the red pepper flakes and I doubled the recipe. We had it with white rice and the seconfd time with brown, great dinner and filling. Thanks Dragon for posting. yummmmm Hi Ginny, I make this all the time now and have it in the freezer. Its great for the bbq and i love adding it to mashed potatoed.. there is so many uses for it, thanks. Hi Jules..ohhh my you were right this is marvelous. I never changed a thing, just doubled the recipe. Everyone wanted the recipe after I told them the ingredients, they couldn\\'t believe how easy it was..big hit jules. thanks for posting. Its a keeper. I thought I died when i tasted these were fantastic.\\r\\nI used whole wheat toast, I would really like to try this on english muffins or crumpets. Thanks so much for a dream breakfast Riff. these were great, I tripled the recipe without a problem, the sauce on these I believe made the party. My husband suggested making it again this week and serving it over rice or noodles. I  am going to do that as well. To bad I can only vote once lol. thanks for such a great recipe. William these were so easy to make and we loved then. Lately I love fast recipes and these were perfect. I also frozen 2 potatoes and defrosted, warmed then a week later. They turned out perfect as well. Thanks so much for such an easy recipe. Oh this was wonderful I made it today for our lunch, it was so fast and easy..It\\'s a keeper.thanks you so much. Dancer^ Well I made one mistake, this was the only recipe I didn\\'t double. Everyone voted to give it 10 stars LOL. It was easy to make and went quickly. \\r\\nFor the 2 of use I will cut the recipe in half and serve with everything lol it was marvelous.\\r\\nTy Bergy another keeper. WOW now this on got raves, I used hot italian sausages and I broiled them. (next time I will grill I was pressed for time.) This is such a treat to the taste buds. It was so cheese and, oh my.. My kind of comfort food. I used shells and I up\\'ed the mushrooms to 12. It was fantastic. Thanks so much for suggesting it.\\r\\nIts a keeper. Way to sweet, it over powered the ribs. Not a good rub for ribs. Pass. I love catfish and this was very very OH MY. great.\\r\\nThe flavors all blended nicely it had a spicy but sweet taste and i will be making this again. Thanks great recipe good luck. This was very tastey. and was easy to make. Tebo, oh my this was wonderful. I served it with Bergy\\'s Black Bean Spareribs #23717.\\r\\nIt was such a nice combo.\\r\\nThanks so much Tebo.\\r\\nIts a keeper. These were very tasty, but they came out a little dry. Not sure why.\\r\\nOn taste thought 6 starts. Thanks and good luck. When I asked after the dinner party for a rating for this recipe, it was for 5 stars, everyone loved the favor and said I should have tripled the recipe instead of doubling it. These went very fast. I will be making this again and very often. Thanks again. This was really great, I had a small veal shoulder in the freezer and it worked perfect, I servered it over noodles and had fresh french bread. Very nice recipe thanks. This was wonderful Charishma. I did have that brand of cake mix so I used my favorite worked great. Wonderful dessert that everyone liked.\\r\\nThanks ;-) Hi Tebo, well after reading the review I did it a little different. I mixed the green pepper with the crumbs but not the honey, I sprayed the dish with pma then layed down half the crumbs/green pepper mixture, I put the honey on a plate I used about a quarter of a cup. I dipped the fish in it and laid it over the crumb mixtured and then topped with remaining crumbs mixture...Tebo it turned out perfect, no lumps. Its taste was amazing, I hope you don\\'t mind I changed the method. Thanks so much for an easy fast and a great recipe. Oh Tish this has been helpful.\\r\\nI made the recipe and frozen half in 4 c. serving containers.\\r\\nIt was great the first night and next day..but what came out of the freezer was so good. All i added was a little water mixed with soy sauce. add to the wok and perfect.\\r\\nIts a keeper and Im going to make it again sunday. Thanks great recipe. A tray of these barely made it to the table.\\r\\nI never new so many people liked stuffed eggs.\\r\\nI never changed a thing, just tripled the recipe. Very good recipe its a keeper. Hello Mean, I had a small leg of lamb in the freezer and this recipe was perfect. I didn\\'t change a thing. There was a small portion left over which I warmed up for lunch in a non-stick skillet and it even tasted better..thanks so much will be making again. Dancer^ this recipe was very good and easy I had to adjust the soup and cheese (used 98% lowfat soup and low-fat cheese.)\\r\\nWe had butterfly pork chops and carrots with a small tossed salad..very nice thanks. Dancer^\\r\\nWill make again. Polly for some reason this didn\\'t set for me. I had it in the oven for 1 hour and 30 minutes and it still would not set properly.\\r\\nSorry about the review but its the best I can do. This was great, I uses a very spicy Italian sausage and it was wonderful. The presentation was so nice.\\r\\nIts like a breakfast goulash, We loved it. Its a winner. Good luck. This turned out very good, I used spanish paprika it went well in this dish. it was fast to prepared and we enjoyed it. Thanks. I love bread stick and these were perfect, I did make ahead and froze them. They turned out great.\\r\\nAnother recipe that got mailed out today. I think this was the easiest recipe of them all, thanks Bergy for such great recipes ;-) oh I did triple the recipe. Hi Bergy..Yesterday was a little rushed for me and this recipe was great. I had all the ingredients in the house i made one small change, I put the cottage cheese through the blender cause Scott will not eat anything if he see the little curds lol He never knew it had cottage cheese in it when he was eating. So im not gonna tell cause this is a keeper. Oh and I did add a 1/2 tsp of hot sauce as NadiaC suggested. Thanks Bergy this goes in my quick meal file . Hi Dancing, I left a review on the recipe above in 2003 and I really hate giving a bad review so I tried the recipe again with some leftover crap we had. I changed the recipe by using montery spicy jack and increased the old bay seasoning to 1 tsp. Sorry about tweeking it but I love crab and just had to try. It still needs a little something, just haven\\'t figured it out yet. but  I will keep trying lol thanks for the recipe. Dancer^ Fantastic dish. If someone doesn\\'t like it, something is wrong with their taste buds. Its healthy and just an amazing. Thanks for such a great dish Ginny. ;-) This was lovely, it didn\\'t take long to make, the flavors blended well and it was a nice saturday dinner.\\r\\nGreat recipe will make again. Well this was great,I did add a little cayenne, about 1/4 tsp.  I put that on everything lately lol, it turned our great. I used hallibut. There was 2 pieces left so the next night I warmed it up and made fish on a kaiser, with a little bbq sauce and slices of red onion, 2 meals in one recipe, prefect. Thanks so much its a keeper. For us the lemon seemed to take over this dish.\\r\\nI would make it again but leave out the lemon juice. Well Bergy these were WONDERFUL, my husband and I ate them all watching a moive last night..we are pigs LOL. The favor was amazing. thanks so much for our snack. ;-) its a keeper. I made these last weekend Bergy, and I used back ribs. I put it together Friday night and we had them saturday. They tasted great. We baked them. Next time its the bbq.\\r\\nThanks Bergy for another great recipe. These are great Mirj, very easy to make, I used low-fat cheese cheese. I also doubled the recipe.\\r\\nThanks so much for posting. This will be made by me very often. I loved these, and so did everyone else. I was laughing watching them eat it because nobody at the party likes tofu..hehe never told them it was in the recipe..its our secert. ;-) these went faster then the meatballs someone else brought..*giggle* I had made this for my husband and 2 of his friends, he\\'s a casserole freak. When i got home, they were eating pizza. I am sorry the rating they gave this. Sharon this is perfect for so many things.\\r\\nI make it last week and we had it with broiled steaks, there was enough left  (i doubled the recipe) and the next night we had it as a topped for baked potatoes. Its just wonderful. Thanks so much. I made these as a gift and they were perfect. I found them a little sweet for me, but still a nice dessert.\\r\\nThanks and good luck. These were wonderful, a fast meal and no leftovers. thanks Dancer^ Wow what a great easy recipe, the flavor was wonderful. I made this for dinner last night and its on my list for our next dinner party. Great easy recipe and can be doubled or triped without a problem. Our next dinnerparty is a Mexican theme so this will go great. Thanks so much. Its a keeper. Hiya Star \\r\\nI made your recipe last night i only made 2 changes not major lol I used homemade stock, less sodium and a few drops of tabasco. Well it was a hit. There was just enough left for me to have a very small bowl today with lunch.\\r\\nThanks so much a great easy soup, when you donèt want something to heavy. Tc Dancer^ This soup was very good, I do agree it needs a little more barley and broth. I will make it again, Thanks  I\\'m Dancing around my kitchen, finally I have a roti recipe that turned out great. we loved the flavor and the texture was amazing. thanks I\\'m so happy. Parsley this was lovely, quick to make and very tasty. It went well with the other casseroles at the dinner party. I crushed the croutons and Lunchmeat suggested and i used a combination mozzarella and cheddar cheese. I am going to add this to my cookbook recipes to make over and over. Thanks so much for suggestioning it. Its a keeper. I made these for a family event and they turned out great, easy to make and everyone enjoyed then. the timing and temp its perfect. great recipe will make again. Stinkerbell, this recipe was great, I served it with steak and a salad.\\r\\n4 People ate the all. (I have to stop inviting the big eaters to dinner). Thanks so much and yes it is a keeper. These were wonderful, I cut back on the oil. I used 8 pitas and only 2 tsps. of oil. Left everything else the same and cut each into 4 for appetizers. Great recipe miller, fast easy, just the way I like it. A keeper. This was very good, I had to cook it for 45 minutes. The stuffing had a great flavor and i will make it again. thanks great recipe. This was excellent, we had it for lunch and enjoyed every mouthful. We had a small tossed salad with it..very good recipe. Thanks and good luck. Well Bergy you did it again, Scott made this recipe and he said it was easy and he loved the flavor.\\r\\nBeans sprouts are 1 of my fzvorite ingredients so you already know I liked it. He served it with t-bone steak and dinner rolls. Great recipe. its in my cookbook, will make again. Thanks Dancer^ Oh my this was so goood. I took your suggestion about adding 1/4 tsp cayenne, but I used the creole seasoning as well. This was gobbled up. The tiing in the recipe is perfect. I served theis with a roasted chicken, mashed taters and a veggie meldey.\\r\\nThanks yopper great recipe. its a keeper. OH Bergy, these were great, I never changed a thing. Scott went crazy for this dish, he\\'s on onion fresk LOL For our special night I served them with Miss Annie\\'s Brime rib, Bev\\'s buttermilk mashed potatoes and Derf\\'s Italian aparagus The meal was a hit, and the evening a couldn\\'t have been better. I have already printed this recipe and its in my zaar cookbook. thanks again. Dancer^ Hello Barb I loved this, It reminded me of something my grandmother made when i was a kid. Great taste, I made it exactly as stated turn out so nice. I did freeze a small piece for a lunch this week. I wanted to see if I could make about a week ahead and freeze. I will let you know. Thanks again. Its a keeper. Dancer^ —\\r\\nPS. I did freeze it and it came out great. I completely defrosted the piece and i have a spray bottle and sprayed a little water , misting the top and baked for 15 minutes. I just made it for dinner tonight and thats what reminded to to add my comments again.\\r\\nTake care. I made this tonight and oh my it turned out very nice. it was smooth (i used the blender) very tasty and everyone enjoyed it.\\r\\nThanks Bekah. Its a keeper. oh my this is wonderful, I made it for dinner tonight and have alread sampled it..ooops.\\r\\nOne serving less oh well.\\r\\nThanks Bergy another keeper.. This was heaven, we had company for dinner and they loved it. The timing for cooking was just right. I will be making this again. Good luck. This was wonderful Bergy, I served it baked halibut and roasted new potatoes. It was quick and easy and the mixture of the 2 flavors, oh my. Scott loved it. I think it would go with anything. Great dish again Bergy. Its a keeper.\\r\\nThanks Dancer^. Hi Michael your right everyone should try this.\\r\\nIt was wonderful I cut the recipe in half and it turned out great I served it with potato pancakes and asparagus. Its a keeper, thanks.\\r\\n We were very surprised that not everyone likes ham and swiss, but my husband and I did so thats all that matters, very tastey easy to make I tripled the recipe twice. but there was leftovers. so we had them for breakfast today.\\r\\nWe will make again just for ourselves, great recipe. This was so creamy and its the perfect amount for 2 people. My DH loves brussel sprouts and never had them in soup before, he said 10 stars. I have to agree.\\r\\nI served it with Crispy Oven Fish by MizzNezz #30872 and Buttermilk Roasted Potatoes by Bev #45033 and a tossed salad. Thanks Rita for posting its a keeper. I used this on halibut last night, I make homemade fish and chips.\\r\\nThe taste was great the beer was not overpowering. thanks so much for posting. Its a keeper. Hi Jules me again lol This recipes was a ten.\\r\\nEveryone wanted the recipe. I broiled them but next time we will try the barbecue. I tripled the recipe and should have made more. I asked as we were eating what they would rate the recipe..it was 10\\'s all around. Great recipe Jules, thanks for making my party a success. 2 thumbs up, and both toes. Hiya Star I finally tried them, yesterday for lunch for 4 kids and myself. The kids went ewwwwwwwwww Tuna but they liked them and so did i, none left and smiling little faces after word. I did leave off the olives but no changes other then that...if the olives had been on i would have got another ewwwwwwwwwww LOL thanks great recipe, will make again. ty Dancer^ Hi Barbara, these were 1 of 3 appetizers I made for a dinner party on Saturday night. They were a big hit. I found them easy to make. I doubled the recipe and never changed a thing. I made the seafood filling, next time I will try the chicken or as you suggested both. Thanks so much for posting, its a keeper. Hi Bev, This where great, They turned out perfect, wonderful flavour and nice and fluffy. I served these with Miss Snnie\\'s Prime Rib Roast, Bergy\\'s Onions, Onions & more Onions, Derf\\'s Italian asparagus. It was the perfect meal for our special night. thanks so much. Well what can I say about these. My Husband made these and when he can do it without swearing. Its a keeper LOL. They came out like little cheese crackers and were served with a hot salsa on the side. A great recipe. This was also doubled, and disappeared very fast. Thanks for another keeper. Uncle Bill you are amazing and so are your cookies, very easy to make and a short cooking time. I found the recipe on monday and tried them monday night. Making another batch today. Thanks so much tc Dancer^ Oh My...These were wonderful, watching people eat these wasn\\'t pretty, it looked like feeding time at the zoo. Mirj.. another wonderful appetizer. But we are having these again tonight with bbq\\'ed steak and salad. Hubby request. and he says 2 thumbs up. Another keeper. thanks so much. Hi PanNan, wonderful recipe, I had to change one thing, I couldn\\'t find the ranch black-eyed peas either so I finely diced 2 small jalapenos and sauteed them for about 6 minutes then added them to the dish. Other then that the recipe was made as stated. This was wonderful at our get together, thanks so much for suggesting it. I have added it to my cookbook recipes to make over and over, and I will. me again Lennie this was the end of our meal.\\r\\nNot to heavy and low-fat, another keeper. My husband is so full right now he is just nodding and holding his hand up for 5 stars..great meal thanks again...Dancer^ I am not sure what it is, but this had an after taste. I spices did not combine well. My husband said please no more.. Sorry. This was wonderful, We had it for dinner today, husband told to save this one lol.\\r\\nThe only thing I added was a little parsley to the cheese. Thanks great recipe. Jen at our party this was the mens favorite casserole, it is comfort food thats for sure. We didn\\'t change a thing.\\r\\nVery easy to make, get for pot luck or weekday meal. Thanks, great recipe. Oh this was so nice, we served this with other casseroles like a side and yum. I doubled the recipe and didn\\'t change a thing. We are going to try it as a dessert later this week with vanilla bean icecream.\\r\\nThanks so much its a keeper. Sorry princess for some reason it didn\\'t work for me either. Bu don\\'t lose heart. I added and extra cup of beans and it was useable. It had a nice flavour. I will try it again with a few tweeks. Thanks Bergy these were a hit. I had a meeting at my home with a bunch of teenagers. I tripled the recipe and I never saw people eat so fast..They wanted more. They told me, \"wow something more then cookies\" thats what their parents usually send to these meeting lol. \\r\\nSo all of them were eaten and enjoyed with 3 plates of cookies left..hmmmm maybe the parents will try something new next time.\\r\\nThanks again. This was wonderful, the flavors were great and it didn\\'t take long to made. Its a keeper. thanks for posting. I had just enough raisin bran cereal to make these. They turned out lovely.\\r\\nI froze 12 of them and they did come out perfect.\\r\\nThanks so much, its a keeper. WOW PanNan, This was my friend Julie and my favorite casserole that we served that night. We tripled the recipe, and i could have eaten it all. Julie had the Indonesian curry powder with was a bonus and oh my. I will be making this again and so will she. I am also adding this recipe to my cookbook recipes to make over and over. and we will be. Thanks so much for suggesting it. a defenant keeper. We loved this, I doubled the recipe and didn\\'t change a thing. It was a nice side dish for the other casseroles we made.\\r\\nEveryone enjoyed the night. Thanks so much for suggesting this recipe. Its a keeper. WOW Bergy these were wonderful. I love puff pastry and these tasted amazing. I did change 1 thing tho, I used to large chicken breasts instead of can. I don\\'t like canned chicken. I haven found a good brand yet. Its a keeper Bergy thanks so much. Dancer^ Great dish everything was there but I used dried mint and I think it lost something. I looked beautiful. I will change the rating when I get to try this again. Thanks. Wow this did have a crunch, we loved it. thanks. Hi Miller, I prepared this Saturday for Sunday dinner. Well let me just say, our guests went wild for it. It has a wonderful flavor and needed no changes at all a great main course and not hard at all to make. Thanks alot for another keeper. I made these for a gathering of friend last night. What a big hit.\\r\\nI doubled the recipe with no problem at all. The flavor was wonderful, not greasy at all. Loved it.\\r\\n I had a whole chicken breast, so I made this for 2. I loved it. It was quick and easy and and filling. I will make again. Bergy I reviewd this before but never said anything so I needed to correct that. I made this for dinner last night again for about the\\r\\n10th time..Its wonderful.\\r\\nI do open the foil for the last 15 minutes and its great. I have also made it with leftover pork roast and cut the cooking time to 30 minutes..great meal thanks Bergy. This was one of 13 casseroles at out get together and everyone enjoyed it.\\r\\nIt is a little expensive but worth it in the end.\\r\\nLike cathy i use prepared alfredo sauce, our favorite is uncle bens, in a jar.\\r\\nI will make this again, thanks so much Queen, great recipe. I followed the recipe perfectly and frozen them.\\r\\nThese were great, they baked a little quicker in her oven but still turned out great. I used fresh asparagus, but think I will try it with frozen next time. Thanks. Very tasty a keeper. Bergy well this hit the spot, I made the recipe as is and we ate it all  ( we are pigs), it went wonderful with beef stroganoff and a a bowl of fruit. Another winner. thanks. Uncle Bill these turned out perfect, i have to agree the olive oil does make a difference, seasoning was just right and yes the hole in the middle works lol, you smarty. Thanks for a great recipe and I will be making this every burger night. Dancer^ Hi Evelyn, thanks for suggesting this for our casserole night. The dish went quickly and everyone enjoyed it. Comfort food to the extreme. I will be making this again, thanks so much. Oh Bergy as soon as I saw this I new it was for us. I made it excactly as stated and it was GREAT. The smell drove us nuts, we loved it..I served with a mango chuntney, rice, green beans and carrots. I will make this again.\\r\\nThanks Dancer^ Hi Miller, I made these for a dinner party Saturday night, the only things I did different was I double the recipe and added a little more hot sauce. They were a big hit. The combination of flavors was great. Thanks for posting. I made this tonight for dinner the were wonderful.\\r\\nmy husband told add those to the cookbook..means its a winner. TW this was amazing, my husband told me this was a mans recipe lol. We both loved the flavor and texture of the meat. We did freeze some to see how it comes out. Thanks TW, great recipes. Its a keeper. I love peas Bergy and these were wonderful,I served the with my bbq oven chicken and Potatoes Again by Derf #14750 it was a great dinner. thanks Bergy another great recipe.\\r\\n I\\'m sorry this pie did not set up right, the middle stayed soogy. Not sure what happened. You were so right these are fast and easy and I added more onion aswell about 4 tbsps. They turned out great. Thanks Tebo and thanks for reviewing my salad dressing recipes. At least we like them LOL. This recipe is a keeper. Oh it would be handy for when company just drops in at meal time. Thanks again. Dancer^ I made these this morning it was snowing I needed something to do. well they are perfect. I have already eaten 2 of them..so i Have to stay out of the kitchen now. Thanks great recipe, a keeper. Karen OOHH my this was wonderful. I made it early in the day and just let it sit. it was great.the flavours blended so well together, we had it with baby new potatoes and a tossed salad. Thanks. Miller these are wonderful, I never changed at thing except tripling the recipe. The name fit this crowd. Piggy Piggy, another hit. thanks Hello Tebo This was great, I did add about 1/2 c. frozen peas and 4 squirts of hot sauce, and topped with homemade seasoned bread crumbs. It was quick and easy not many dishes and so yummy.\\r\\nThanks so much, its a keeper.\\r\\nDancer^ My husband wanted something a little different, so I choose this recipe. I am sorry but we found very greasey and the sherry over powered the chicken. Thanks for posting tho. This was fantastic, I made it for guests last night and they loved it.\\nI never changed a thing. I found it very easy to make. It was served with a large garden salad with balsamic dressing, and crusty rolls.\\nThanks Miss Anne its a keeper. Thanks for suggesting this. I was one of our meat casseroles for the dinner party. Our friend  Gary almost wouldn\\'t let anyone else have any. He said it reminded him of one his mother used to make. I did make 1 change, I used a combination of cheese crackers and saltines. I also used fresh mushrooms. I was fantastic. Thanks so much. Its a keeper. Thanks Mean you got great reviews from our guests, they all wanted the recipe. I made it exactly as stated..no need to change a thing. We served it with fluffy white rice and a small salad. Thanks Mean great recipe. 5 stars is just not enough for this one.'"
      ]
     },
     "execution_count": 61,
     "metadata": {},
     "output_type": "execute_result"
    }
   ],
   "source": [
    "user_reviews['review'][0]"
   ]
  },
  {
   "cell_type": "code",
   "execution_count": 45,
   "metadata": {},
   "outputs": [],
   "source": [
    "\n",
    "tfidf_vectorizer = TfidfVectorizer(max_features=10000, stop_words='english')\n",
    "user_review_vectors = tfidf_vectorizer.fit_transform(user_reviews['review'])"
   ]
  },
  {
   "cell_type": "code",
   "execution_count": 46,
   "metadata": {},
   "outputs": [],
   "source": [
    "\n",
    "recipe_vectors = tfidf_vectorizer.transform(recipes['description'].fillna(''))"
   ]
  },
  {
   "cell_type": "code",
   "execution_count": 134,
   "metadata": {},
   "outputs": [
    {
     "data": {
      "text/plain": [
       "'autumn is my favorite time of year to cook this recipe \\r\\ncan be prepared either spicy or sweet your choice\\r\\ntwo of my posted mexicaninspired seasoning mix recipes are offered as suggestions'"
      ]
     },
     "execution_count": 134,
     "metadata": {},
     "output_type": "execute_result"
    }
   ],
   "source": [
    "recipes['description'][0]"
   ]
  },
  {
   "cell_type": "code",
   "execution_count": 137,
   "metadata": {},
   "outputs": [],
   "source": [
    "#joining multi-word tags to single strings. still in list format for now\n",
    "def join_tags(tags):\n",
    "    return [ingredient.replace('-', '') for ingredient in tags]\n",
    "\n",
    "recipes['tags_str'] = recipes['tags'].apply(join_tags)"
   ]
  },
  {
   "cell_type": "code",
   "execution_count": 138,
   "metadata": {},
   "outputs": [],
   "source": [
    "# Combine ingredients list into a single string\n",
    "recipes['tags_str'] = recipes['tags'].apply(lambda x: ' '.join(x))"
   ]
  },
  {
   "cell_type": "code",
   "execution_count": 143,
   "metadata": {},
   "outputs": [
    {
     "data": {
      "text/plain": [
       "'60-minutes-or-less time-to-make course main-ingredient cuisine preparation occasion north-american side-dishes vegetables mexican easy fall holiday-event vegetarian winter dietary christmas seasonal squash'"
      ]
     },
     "execution_count": 143,
     "metadata": {},
     "output_type": "execute_result"
    }
   ],
   "source": [
    "recipes['tags_str'][0]"
   ]
  },
  {
   "cell_type": "markdown",
   "metadata": {},
   "source": [
    "The idea is to achieve a balanced and comprehensive similarity score, especially when integrated with user reviews."
   ]
  },
  {
   "cell_type": "code",
   "execution_count": null,
   "metadata": {},
   "outputs": [],
   "source": [
    "\n",
    "recipe_tags = recipes['tags_str'].fillna('')  # A list of tags for each recipe\n",
    "recipe_descriptions = recipes['description'].fillna('')  # A list of descriptions for each recipe\n"
   ]
  },
  {
   "cell_type": "code",
   "execution_count": 151,
   "metadata": {},
   "outputs": [],
   "source": [
    "recipe_info = [' '.join([tag, description]) for tag, description in zip(recipe_tags, recipe_descriptions)]\n"
   ]
  },
  {
   "cell_type": "code",
   "execution_count": 152,
   "metadata": {},
   "outputs": [],
   "source": [
    "recipe_info_vectors = tfidf_vectorizer.fit_transform(recipe_info)"
   ]
  },
  {
   "cell_type": "code",
   "execution_count": 167,
   "metadata": {},
   "outputs": [
    {
     "name": "stdout",
     "output_type": "stream",
     "text": [
      "User review vectors shape: (226570, 10000)\n",
      "Recipe vectors shape: (231637, 10000)\n",
      "Recipe vectors + Tags vectors shape: (231637, 10000)\n"
     ]
    }
   ],
   "source": [
    "# Check the dimensions\n",
    "print(\"User review vectors shape:\", user_review_vectors.shape)\n",
    "print(\"Recipe vectors shape:\", recipe_vectors.shape)\n",
    "print(\"Recipe vectors + Tags vectors shape:\", recipe_info_vectors.shape)\n"
   ]
  },
  {
   "cell_type": "code",
   "execution_count": 62,
   "metadata": {},
   "outputs": [
    {
     "data": {
      "text/plain": [
       "Index([3935], dtype='int64')"
      ]
     },
     "execution_count": 62,
     "metadata": {},
     "output_type": "execute_result"
    }
   ],
   "source": [
    "user_reviews[user_reviews['user_id'] == user_id].index"
   ]
  },
  {
   "cell_type": "code",
   "execution_count": null,
   "metadata": {},
   "outputs": [
    {
     "name": "stdout",
     "output_type": "stream",
     "text": [
      "            id                                               name  \\\n",
      "210060  335678                             texas bacon stroganoff   \n",
      "197930  496625  spinach salad w  pan seared scallops and warm ...   \n",
      "192532  287639            southern rice with bacon flavored gravy   \n",
      "32514   529732       butternut squash soup with bacon and cheddar   \n",
      "12573   324517                                    bacon meatballs   \n",
      "\n",
      "        similarity_score  \n",
      "210060          0.442408  \n",
      "197930          0.365603  \n",
      "192532          0.363584  \n",
      "32514           0.351404  \n",
      "12573           0.351404  \n"
     ]
    }
   ],
   "source": [
    "def recommend_recipes_tfidf(user_id, top_n=5):\n",
    "    #index of the user\n",
    "    user_idx = user_reviews[user_reviews['user_id'] == user_id].index\n",
    "    if not len(user_idx):\n",
    "        return \"No reviews found for this user.\"\n",
    "    \n",
    "    user_vector = user_review_vectors[user_idx[0]]\n",
    "    similarities = cosine_similarity(user_vector, recipe_vectors).flatten()\n",
    "    \n",
    "    # similarity scores to recipes\n",
    "    recipes['similarity_score'] = similarities\n",
    "    return recipes.sort_values('similarity_score', ascending=False).head(top_n)[['id', 'name', 'similarity_score']]\n",
    "\n",
    "# Test NLP based CBF with TF-IDF\n",
    "print(recommend_recipes_tfidf(user_id=1581))\n"
   ]
  },
  {
   "cell_type": "markdown",
   "metadata": {},
   "source": [
    "CBF with  NLP based on ingredients and constraints"
   ]
  },
  {
   "cell_type": "code",
   "execution_count": 160,
   "metadata": {},
   "outputs": [],
   "source": [
    "def cbf_nlp(user_ingredients, user_id, alpha=0.5,max_time = None, dietary_restrictions=None, cuisine_preferences=None):\n",
    "    #Process ingredients input\n",
    "    input_ingredients_str = ' '.join([ingredient.replace(' ', '') for ingredient in user_ingredients])\n",
    "    input_vector = tfidf.transform([input_ingredients_str])  # Ingredients vector\n",
    "\n",
    "    # Compute cosine similarity for ingredients\n",
    "    ingredient_similarity_scores = cosine_similarity(input_vector, tfidf_matrix).flatten()\n",
    "\n",
    "    # Get user review vector (if user_id exists in reviews)\n",
    "    user_idx = user_reviews[user_reviews['user_id'] == user_id].index\n",
    "    \n",
    "    if not len(user_idx):\n",
    "        print(\"No reviews found for this user. Using only ingredient-based recommendations.\")\n",
    "        recipes['similarity'] = ingredient_similarity_scores\n",
    "    else:\n",
    "        user_vector = user_review_vectors[user_idx[0]]  # User's review vector\n",
    "        review_similarity_scores = cosine_similarity(user_vector, recipe_vectors).flatten()\n",
    "\n",
    "        #Combine ingredient and review similarities\n",
    "        combined_similarity_scores = (\n",
    "            alpha * ingredient_similarity_scores +\n",
    "            (1 - alpha) * review_similarity_scores\n",
    "        )\n",
    "        recipes['similarity'] = combined_similarity_scores\n",
    "        \n",
    "        \n",
    "    filtered_recipes = recipes.copy()\n",
    "    # Filter by preparation time\n",
    "    if max_time is not None:\n",
    "        filtered_recipes = filtered_recipes[filtered_recipes['minutes'] <= max_time]\n",
    "\n",
    "    # Filter by dietary restrictions\n",
    "    if dietary_restrictions is not None:\n",
    "        filtered_recipes = filtered_recipes[filtered_recipes['tags'].apply(\n",
    "            lambda tags: all(diet in tags for diet in dietary_restrictions)\n",
    "        )]\n",
    "\n",
    "    # Filter by cuisine preferences\n",
    "    if cuisine_preferences is not None:\n",
    "        filtered_recipes = filtered_recipes[filtered_recipes['tags'].apply(\n",
    "            lambda tags: any(cuisine in tags for cuisine in cuisine_preferences)\n",
    "        )]\n",
    "\n",
    "    # Get top recommendations\n",
    "    top_recipes = filtered_recipes.nlargest(10, 'similarity')[['name', 'id', 'minutes', 'tags', 'steps', 'ingredients', 'similarity']]\n",
    "\n",
    "    \n",
    "    print(\"\\nTop 10 Suggested Recipes:\\n\")\n",
    "    for idx, row in top_recipes.iterrows():\n",
    "        #print dietary pref and cuisine pref\n",
    "        \n",
    "        print(f\"Recipe Name: {row['name']}\")        \n",
    "        print(f\"Recipe ID: {row['id']}\")        \n",
    "        print(f\"Preparation Time: {row['minutes']} minutes\")\n",
    "        print(f\"Tags: {', '.join(row['tags']) if isinstance(row['tags'], list) else row['tags']}\")\n",
    "        print(f\"Ingredients: {', '.join(row['ingredients']) if isinstance(row['ingredients'], list) else row['ingredients']}\")\n",
    "        print(f\"Steps: {' '.join(row['steps']) if isinstance(row['steps'], list) else row['steps']}\")\n",
    "        print(f\"Similarity Score: {row['similarity']:.2f}\")\n",
    "        print(\"-\" * 50)\n",
    "\n",
    "    return top_recipes\n"
   ]
  },
  {
   "cell_type": "code",
   "execution_count": 162,
   "metadata": {},
   "outputs": [
    {
     "name": "stdout",
     "output_type": "stream",
     "text": [
      "No reviews found for this user. Using only ingredient-based recommendations.\n",
      "\n",
      "Top 10 Suggested Recipes:\n",
      "\n",
      "Recipe Name: easy authentic guacamole\n",
      "Recipe ID: 287183\n",
      "Preparation Time: 15 minutes\n",
      "Tags: 15-minutes-or-less, time-to-make, course, main-ingredient, cuisine, preparation, occasion, north-american, low-protein, appetizers, lunch, snacks, vegetables, mexican, easy, no-cook, beginner-cook, dinner-party, finger-food, vegetarian, dips, dietary, gluten-free, low-cholesterol, low-carb, healthy-2, free-of-something, low-in-something, presentation, technique\n",
      "Ingredients: avocados, limejuice, salt, pepper, plumtomatoes, onion, jalapeno\n",
      "Steps: wash and discard the peels and seeds of your avocados and put the remaining flesh in a medium sized bowl add lime juice , salt and pepper and mash into the avocado with a fork or potato masher until smooth dice tomatoes , onion and jalapeo and stir into avocado mixture add more salt to taste storing: put into serving dish and cover with plastic wrap so that the wrap is pressed directly on top of the guacamole and refrigerate until ready to serve optional prep dicing jalapeos - slice the jalapeo in half lengthwise and pull out seeds and membrane slice lengthwise into long thin strips , then bunch the strips together and cut crosswise into very finely diced pieces\n",
      "Similarity Score: 0.26\n",
      "--------------------------------------------------\n",
      "Recipe Name: guacamole\n",
      "Recipe ID: 34233\n",
      "Preparation Time: 15 minutes\n",
      "Tags: 15-minutes-or-less, time-to-make, course, main-ingredient, cuisine, preparation, occasion, north-american, low-protein, appetizers, lunch, condiments-etc, fruit, vegetables, american, mexican, southwestern-united-states, tex-mex, easy, no-cook, potluck, dinner-party, heirloom-historical, holiday-event, picnic, vegetarian, dips, dietary, spicy, new-years, gluten-free, low-cholesterol, low-calorie, comfort-food, low-carb, independence-day, healthy-2, free-of-something, low-in-something, taste-mood, to-go, number-of-servings, presentation, 3-steps-or-less, technique\n",
      "Ingredients: avocados, lime,juiceof, tomatoes, onion, pepper, salt, garliccloves, groundcumin, cayennepepper\n",
      "Steps: halve avocados remove fruit by running spoon next to skin discard seed or save for other uses place avocado in bowl and mash with fork immediately mix in lime juice , incorporating well mix in remaining ingredients serve immediately\n",
      "Similarity Score: 0.24\n",
      "--------------------------------------------------\n",
      "Recipe Name: guacamole for 1 or 2\n",
      "Recipe ID: 12752\n",
      "Preparation Time: 20 minutes\n",
      "Tags: 30-minutes-or-less, time-to-make, course, cuisine, preparation, occasion, north-american, for-1-or-2, low-protein, healthy, appetizers, lunch, condiments-etc, side-dishes, american, mexican, southwestern-united-states, tex-mex, easy, beginner-cook, dips, spreads, dietary, low-sodium, gluten-free, low-cholesterol, pacific-northwest, low-carb, healthy-2, free-of-something, low-in-something, number-of-servings, 3-steps-or-less\n",
      "Ingredients: avocado, greenonion, lemonjuice, tomatoes, tabascosauce, salt&pepper\n",
      "Steps: mix all ingredients together , do not puree in a blender or food processor , mixture should be slightly lumpy serve with tortilla chips or over taco , burritos , enchiladas and quesadillas\n",
      "Similarity Score: 0.19\n",
      "--------------------------------------------------\n",
      "Recipe Name: tammi rodriguez s secret garden fresh salsa\n",
      "Recipe ID: 5417\n",
      "Preparation Time: 0 minutes\n",
      "Tags: 15-minutes-or-less, time-to-make, course, cuisine, preparation, north-american, low-protein, healthy, sauces, lunch, condiments-etc, mexican, easy, low-fat, salsas, dietary, low-sodium, gluten-free, low-cholesterol, low-saturated-fat, low-calorie, low-carb, healthy-2, free-of-something, low-in-something, number-of-servings, 3-steps-or-less\n",
      "Ingredients: tomatoes, greenonion, cilantro, serranochilies, salt, pepper, garlic\n",
      "Steps: put all items in blender and chop for 30-60 seconds pour into jar and refrigerate\n",
      "Similarity Score: 0.17\n",
      "--------------------------------------------------\n",
      "Recipe Name: mexican cilantro slaw\n",
      "Recipe ID: 26859\n",
      "Preparation Time: 15 minutes\n",
      "Tags: 15-minutes-or-less, time-to-make, course, main-ingredient, cuisine, preparation, occasion, north-american, low-protein, healthy, lunch, salads, side-dishes, fruit, vegetables, mexican, easy, no-cook, refrigerator, dinner-party, heirloom-historical, holiday-event, low-fat, dietary, low-sodium, gluten-free, low-cholesterol, low-saturated-fat, low-calorie, low-carb, healthy-2, free-of-something, low-in-something, equipment, 3-steps-or-less, technique\n",
      "Ingredients: greencabbage, redcabbage, cilantro, limejuice, honey, water, cuminseed, salt, pepper\n",
      "Steps: mix all the ingredients season to taste refrigerate for up to 4 hours , covered\n",
      "Similarity Score: 0.14\n",
      "--------------------------------------------------\n",
      "Recipe Name: chile con queso  chile cheese dip\n",
      "Recipe ID: 29755\n",
      "Preparation Time: 25 minutes\n",
      "Tags: 30-minutes-or-less, time-to-make, course, main-ingredient, cuisine, preparation, occasion, north-american, appetizers, eggs-dairy, mexican, easy, european, dinner-party, dips, cheese, stove-top, dietary, spicy, gluten-free, high-calcium, low-carb, free-of-something, high-in-something, low-in-something, taste-mood, equipment, number-of-servings\n",
      "Ingredients: onion, butter, tomatoes, greenchilipeppers, salt, cheddarcheese, milk, tortillachips\n",
      "Steps: in a medium skillet , cook onion in butter until tender but not brown stir in tomatoes , chili peppers and salt simmer , uncovered for 10 minutes add cheese a little at a time , stirring until cheese melts stir in a little milk if mixture becomes too thick serve immediately with chips keep warm in a fondue pot over low heat\n",
      "Similarity Score: 0.13\n",
      "--------------------------------------------------\n",
      "Recipe Name: chipotle s guacamole\n",
      "Recipe ID: 36679\n",
      "Preparation Time: 10 minutes\n",
      "Tags: 15-minutes-or-less, time-to-make, course, cuisine, preparation, occasion, north-american, low-protein, appetizers, mexican, no-cook, finger-food, holiday-event, picnic, vegetarian, dips, south-american, dietary, spicy, christmas, gluten-free, low-cholesterol, low-carb, healthy-2, free-of-something, low-in-something, taste-mood, to-go, presentation, technique\n",
      "Ingredients: avocado, freshlimejuice, freshcilantro, onion, garliccloves, serranochilies, salt\n",
      "Steps: mash up avocado with a fork or electric mixer add lime juice add all other ingredients and blend well serve with tortilla chips\n",
      "Similarity Score: 0.13\n",
      "--------------------------------------------------\n",
      "Recipe Name: mexican vegetable salsa\n",
      "Recipe ID: 25507\n",
      "Preparation Time: 15 minutes\n",
      "Tags: 15-minutes-or-less, time-to-make, course, main-ingredient, cuisine, preparation, occasion, north-american, low-protein, healthy, sauces, condiments-etc, side-dishes, vegetables, mexican, easy, no-cook, dinner-party, low-fat, salsas, dietary, spicy, low-sodium, gluten-free, low-cholesterol, low-saturated-fat, low-calorie, low-carb, healthy-2, free-of-something, low-in-something, taste-mood, number-of-servings, 3-steps-or-less, technique\n",
      "Ingredients: tomatoes, onion, cucumber, radishes, cilantro, jalapenopeppers, limejuice, salt\n",
      "Steps: mix all the ingredients except lime juice and salt , pour th lime juice over the veggies , salt to taste and serve immediately\n",
      "Similarity Score: 0.12\n",
      "--------------------------------------------------\n",
      "Recipe Name: year round salsa\n",
      "Recipe ID: 25798\n",
      "Preparation Time: 20 minutes\n",
      "Tags: 30-minutes-or-less, time-to-make, course, main-ingredient, cuisine, preparation, occasion, north-american, low-protein, healthy, sauces, appetizers, condiments-etc, vegetables, american, mexican, southwestern-united-states, tex-mex, easy, potluck, low-fat, picnic, dips, salsas, dietary, spicy, gluten-free, low-cholesterol, low-saturated-fat, low-calorie, low-carb, healthy-2, free-of-something, low-in-something, taste-mood, to-go, number-of-servings, 3-steps-or-less\n",
      "Ingredients: crushedtomatoes, freshjalapenos, onion, garlic, cayenne, salt, cuminseeds, driedoregano, whitevinegar\n",
      "Steps: stir all the ingredients together in a bowl , refrigerate for at least 30 minutes to develop the flavors\n",
      "Similarity Score: 0.10\n",
      "--------------------------------------------------\n",
      "Recipe Name: chile garden salsa\n",
      "Recipe ID: 28205\n",
      "Preparation Time: 10 minutes\n",
      "Tags: 15-minutes-or-less, time-to-make, course, main-ingredient, cuisine, preparation, occasion, north-american, low-protein, healthy, sauces, main-dish, condiments-etc, vegetables, american, mexican, southwestern-united-states, tex-mex, easy, no-cook, beginner-cook, potluck, diabetic, dinner-party, finger-food, heirloom-historical, holiday-event, low-fat, spring, summer, vegan, vegetarian, salsas, food-processor-blender, dietary, spicy, new-years, gluten-free, low-cholesterol, seasonal, low-saturated-fat, low-calorie, low-carb, independence-day, inexpensive, healthy-2, free-of-something, low-in-something, taste-mood, to-go, equipment, small-appliance, number-of-servings, presentation, technique\n",
      "Ingredients: tomatoes, onion, greenonions, jalapenochiles, habaneropeppers, serranochilies, freshcilantro, freshlimejuice, salt\n",
      "Steps: chop one of the tomatoes coarsely and place in a blender with one each of the jalapenos , habaneros , serranos , and the lime juice pulse until the mixture has broken down into a sauce chop the other tomato also finely chop the remaining jalapeno , habanero , and serrano , placing all in a small bowl mix in onions , cilantro , and mixture from blender add salt and adjust to taste allow to sit 1-2 hours to blend flavors before serving\n",
      "Similarity Score: 0.10\n",
      "--------------------------------------------------\n"
     ]
    },
    {
     "data": {
      "text/html": [
       "<div>\n",
       "<style scoped>\n",
       "    .dataframe tbody tr th:only-of-type {\n",
       "        vertical-align: middle;\n",
       "    }\n",
       "\n",
       "    .dataframe tbody tr th {\n",
       "        vertical-align: top;\n",
       "    }\n",
       "\n",
       "    .dataframe thead th {\n",
       "        text-align: right;\n",
       "    }\n",
       "</style>\n",
       "<table border=\"1\" class=\"dataframe\">\n",
       "  <thead>\n",
       "    <tr style=\"text-align: right;\">\n",
       "      <th></th>\n",
       "      <th>name</th>\n",
       "      <th>id</th>\n",
       "      <th>minutes</th>\n",
       "      <th>tags</th>\n",
       "      <th>steps</th>\n",
       "      <th>ingredients</th>\n",
       "      <th>similarity</th>\n",
       "    </tr>\n",
       "  </thead>\n",
       "  <tbody>\n",
       "    <tr>\n",
       "      <th>74907</th>\n",
       "      <td>easy authentic guacamole</td>\n",
       "      <td>287183</td>\n",
       "      <td>15</td>\n",
       "      <td>[15-minutes-or-less, time-to-make, course, mai...</td>\n",
       "      <td>[wash and discard the peels and seeds of your ...</td>\n",
       "      <td>[avocados, limejuice, salt, pepper, plumtomato...</td>\n",
       "      <td>0.255142</td>\n",
       "    </tr>\n",
       "    <tr>\n",
       "      <th>100648</th>\n",
       "      <td>guacamole</td>\n",
       "      <td>34233</td>\n",
       "      <td>15</td>\n",
       "      <td>[15-minutes-or-less, time-to-make, course, mai...</td>\n",
       "      <td>[halve avocados, remove fruit by running spoon...</td>\n",
       "      <td>[avocados, lime,juiceof, tomatoes, onion, pepp...</td>\n",
       "      <td>0.241109</td>\n",
       "    </tr>\n",
       "    <tr>\n",
       "      <th>100668</th>\n",
       "      <td>guacamole for 1 or 2</td>\n",
       "      <td>12752</td>\n",
       "      <td>20</td>\n",
       "      <td>[30-minutes-or-less, time-to-make, course, cui...</td>\n",
       "      <td>[mix all ingredients together , do not puree i...</td>\n",
       "      <td>[avocado, greenonion, lemonjuice, tomatoes, ta...</td>\n",
       "      <td>0.187202</td>\n",
       "    </tr>\n",
       "    <tr>\n",
       "      <th>208235</th>\n",
       "      <td>tammi rodriguez s secret garden fresh salsa</td>\n",
       "      <td>5417</td>\n",
       "      <td>0</td>\n",
       "      <td>[15-minutes-or-less, time-to-make, course, cui...</td>\n",
       "      <td>[put all items in blender and chop for 30-60 s...</td>\n",
       "      <td>[tomatoes, greenonion, cilantro, serranochilie...</td>\n",
       "      <td>0.170562</td>\n",
       "    </tr>\n",
       "    <tr>\n",
       "      <th>134153</th>\n",
       "      <td>mexican cilantro slaw</td>\n",
       "      <td>26859</td>\n",
       "      <td>15</td>\n",
       "      <td>[15-minutes-or-less, time-to-make, course, mai...</td>\n",
       "      <td>[mix all the ingredients, season to taste, ref...</td>\n",
       "      <td>[greencabbage, redcabbage, cilantro, limejuice...</td>\n",
       "      <td>0.139756</td>\n",
       "    </tr>\n",
       "    <tr>\n",
       "      <th>47298</th>\n",
       "      <td>chile con queso  chile cheese dip</td>\n",
       "      <td>29755</td>\n",
       "      <td>25</td>\n",
       "      <td>[30-minutes-or-less, time-to-make, course, mai...</td>\n",
       "      <td>[in a medium skillet , cook onion in butter un...</td>\n",
       "      <td>[onion, butter, tomatoes, greenchilipeppers, s...</td>\n",
       "      <td>0.133520</td>\n",
       "    </tr>\n",
       "    <tr>\n",
       "      <th>48951</th>\n",
       "      <td>chipotle s guacamole</td>\n",
       "      <td>36679</td>\n",
       "      <td>10</td>\n",
       "      <td>[15-minutes-or-less, time-to-make, course, cui...</td>\n",
       "      <td>[mash up avocado with a fork or electric mixer...</td>\n",
       "      <td>[avocado, freshlimejuice, freshcilantro, onion...</td>\n",
       "      <td>0.128894</td>\n",
       "    </tr>\n",
       "    <tr>\n",
       "      <th>134807</th>\n",
       "      <td>mexican vegetable salsa</td>\n",
       "      <td>25507</td>\n",
       "      <td>15</td>\n",
       "      <td>[15-minutes-or-less, time-to-make, course, mai...</td>\n",
       "      <td>[mix all the ingredients except lime juice and...</td>\n",
       "      <td>[tomatoes, onion, cucumber, radishes, cilantro...</td>\n",
       "      <td>0.118083</td>\n",
       "    </tr>\n",
       "    <tr>\n",
       "      <th>229071</th>\n",
       "      <td>year round salsa</td>\n",
       "      <td>25798</td>\n",
       "      <td>20</td>\n",
       "      <td>[30-minutes-or-less, time-to-make, course, mai...</td>\n",
       "      <td>[stir all the ingredients together in a bowl ,...</td>\n",
       "      <td>[crushedtomatoes, freshjalapenos, onion, garli...</td>\n",
       "      <td>0.101746</td>\n",
       "    </tr>\n",
       "    <tr>\n",
       "      <th>47312</th>\n",
       "      <td>chile garden salsa</td>\n",
       "      <td>28205</td>\n",
       "      <td>10</td>\n",
       "      <td>[15-minutes-or-less, time-to-make, course, mai...</td>\n",
       "      <td>[chop one of the tomatoes coarsely and place i...</td>\n",
       "      <td>[tomatoes, onion, greenonions, jalapenochiles,...</td>\n",
       "      <td>0.095773</td>\n",
       "    </tr>\n",
       "  </tbody>\n",
       "</table>\n",
       "</div>"
      ],
      "text/plain": [
       "                                               name      id  minutes  \\\n",
       "74907                      easy authentic guacamole  287183       15   \n",
       "100648                                    guacamole   34233       15   \n",
       "100668                         guacamole for 1 or 2   12752       20   \n",
       "208235  tammi rodriguez s secret garden fresh salsa    5417        0   \n",
       "134153                        mexican cilantro slaw   26859       15   \n",
       "47298             chile con queso  chile cheese dip   29755       25   \n",
       "48951                          chipotle s guacamole   36679       10   \n",
       "134807                      mexican vegetable salsa   25507       15   \n",
       "229071                             year round salsa   25798       20   \n",
       "47312                            chile garden salsa   28205       10   \n",
       "\n",
       "                                                     tags  \\\n",
       "74907   [15-minutes-or-less, time-to-make, course, mai...   \n",
       "100648  [15-minutes-or-less, time-to-make, course, mai...   \n",
       "100668  [30-minutes-or-less, time-to-make, course, cui...   \n",
       "208235  [15-minutes-or-less, time-to-make, course, cui...   \n",
       "134153  [15-minutes-or-less, time-to-make, course, mai...   \n",
       "47298   [30-minutes-or-less, time-to-make, course, mai...   \n",
       "48951   [15-minutes-or-less, time-to-make, course, cui...   \n",
       "134807  [15-minutes-or-less, time-to-make, course, mai...   \n",
       "229071  [30-minutes-or-less, time-to-make, course, mai...   \n",
       "47312   [15-minutes-or-less, time-to-make, course, mai...   \n",
       "\n",
       "                                                    steps  \\\n",
       "74907   [wash and discard the peels and seeds of your ...   \n",
       "100648  [halve avocados, remove fruit by running spoon...   \n",
       "100668  [mix all ingredients together , do not puree i...   \n",
       "208235  [put all items in blender and chop for 30-60 s...   \n",
       "134153  [mix all the ingredients, season to taste, ref...   \n",
       "47298   [in a medium skillet , cook onion in butter un...   \n",
       "48951   [mash up avocado with a fork or electric mixer...   \n",
       "134807  [mix all the ingredients except lime juice and...   \n",
       "229071  [stir all the ingredients together in a bowl ,...   \n",
       "47312   [chop one of the tomatoes coarsely and place i...   \n",
       "\n",
       "                                              ingredients  similarity  \n",
       "74907   [avocados, limejuice, salt, pepper, plumtomato...    0.255142  \n",
       "100648  [avocados, lime,juiceof, tomatoes, onion, pepp...    0.241109  \n",
       "100668  [avocado, greenonion, lemonjuice, tomatoes, ta...    0.187202  \n",
       "208235  [tomatoes, greenonion, cilantro, serranochilie...    0.170562  \n",
       "134153  [greencabbage, redcabbage, cilantro, limejuice...    0.139756  \n",
       "47298   [onion, butter, tomatoes, greenchilipeppers, s...    0.133520  \n",
       "48951   [avocado, freshlimejuice, freshcilantro, onion...    0.128894  \n",
       "134807  [tomatoes, onion, cucumber, radishes, cilantro...    0.118083  \n",
       "229071  [crushedtomatoes, freshjalapenos, onion, garli...    0.101746  \n",
       "47312   [tomatoes, onion, greenonions, jalapenochiles,...    0.095773  "
      ]
     },
     "execution_count": 162,
     "metadata": {},
     "output_type": "execute_result"
    }
   ],
   "source": [
    "user_ingredients = ['ground beef', 'onion', 'salt', 'pepper']\n",
    "user_id = None\n",
    "cuisine_preferences = ['mexican']\n",
    "dietary_restrictions = ['gluten-free', 'low-carb']\n",
    "cbf_nlp(user_ingredients, user_id, alpha=0.5, max_time=30, dietary_restrictions=dietary_restrictions, cuisine_preferences=cuisine_preferences)"
   ]
  },
  {
   "cell_type": "code",
   "execution_count": 117,
   "metadata": {},
   "outputs": [],
   "source": [
    "user_interaction = user_interaction.reset_index(drop=True)\n"
   ]
  },
  {
   "cell_type": "markdown",
   "metadata": {},
   "source": [
    "Final Hybrid System: CBF w NLP and CF "
   ]
  },
  {
   "cell_type": "code",
   "execution_count": 158,
   "metadata": {},
   "outputs": [],
   "source": [
    "def suggest_recipes_hybrid(\n",
    "    user_ingredients, user_id, alpha=0.5, beta=0.3, max_time=None, dietary_restrictions=None, cuisine_preferences=None\n",
    "):\n",
    "    \"\"\"\n",
    "    Suggest recipes using a hybrid recommendation approach.\n",
    "    Combines content-based filtering (CBF) with collaborative filtering (CF).\n",
    "    \"\"\"\n",
    "    #Process ingredients input\n",
    "    input_ingredients_str = ' '.join([ingredient.replace(' ', '') for ingredient in user_ingredients])\n",
    "    input_vector = tfidf.transform([input_ingredients_str])  # Ingredients vector\n",
    "\n",
    "    # Compute cosine similarity for ingredients\n",
    "    ingredient_similarity_scores = cosine_similarity(input_vector, tfidf_matrix).flatten()\n",
    "\n",
    "    # Get user review vector (if user_id exists in reviews)\n",
    "    user_idx = user_reviews[user_reviews['user_id'] == user_id].index\n",
    "    \n",
    "    if not len(user_idx):\n",
    "        print(\"No reviews found for this user. Using only ingredient and CF-based recommendations.\")\n",
    "        recipes['similarity'] = ingredient_similarity_scores\n",
    "        review_similarity_scores = None\n",
    "    else:\n",
    "        user_vector = user_review_vectors[user_idx[0]]  # User's review vector\n",
    "        review_similarity_scores = cosine_similarity(user_vector, recipe_info_vectors).flatten()\n",
    "\n",
    "        #Combine ingredient and review similarities\n",
    "        combined_similarity_scores = (\n",
    "            alpha * ingredient_similarity_scores +\n",
    "            (1 - alpha) * review_similarity_scores\n",
    "        )\n",
    "        recipes['similarity'] = combined_similarity_scores\n",
    "\n",
    "    #Get CF predictions\n",
    "    cf_predictions = {\n",
    "        recipe_id: model.predict(user_id, recipe_id).est for recipe_id in recipes['id']\n",
    "    }\n",
    "    recipes['cf_score'] = recipes['id'].map(cf_predictions)\n",
    "\n",
    "    # Combine CBF and CF scores\n",
    "    if review_similarity_scores is not None:\n",
    "        recipes['final_score'] = (\n",
    "            beta * recipes['similarity'] + (1 - beta) * recipes['cf_score']\n",
    "        )\n",
    "    else:\n",
    "        recipes['final_score'] = (\n",
    "            alpha * recipes['similarity'] + (1 - alpha) * recipes['cf_score']\n",
    "        )\n",
    "\n",
    "    # Apply constraint filters\n",
    "    filtered_recipes = recipes.copy()\n",
    "\n",
    "    if max_time is not None:\n",
    "        filtered_recipes = filtered_recipes[filtered_recipes['minutes'] <= max_time]\n",
    "\n",
    "    if dietary_restrictions is not None:\n",
    "        filtered_recipes = filtered_recipes[filtered_recipes['tags'].apply(\n",
    "            lambda tags: all(diet in tags for diet in dietary_restrictions)\n",
    "        )]\n",
    "\n",
    "    if cuisine_preferences is not None:\n",
    "        filtered_recipes = filtered_recipes[filtered_recipes['tags'].apply(\n",
    "            lambda tags: any(cuisine in tags for cuisine in cuisine_preferences)\n",
    "        )]\n",
    "\n",
    "    #Get top recommendations\n",
    "    top_recipes = filtered_recipes.nlargest(10, 'final_score')[[\n",
    "        'name', 'id', 'minutes', 'tags', 'steps', 'ingredients', 'cf_score','final_score'\n",
    "    ]]\n",
    "\n",
    "    \n",
    "    print(\"\\nTop 10 Suggested Recipes:\\n\")\n",
    "    for idx, row in top_recipes.iterrows():\n",
    "        print(f\"Recipe Name: {row['name']}\")        \n",
    "        print(f\"Recipe ID: {row['id']}\")        \n",
    "        print(f\"Preparation Time: {row['minutes']} minutes\")\n",
    "        print(f\"Tags: {', '.join(row['tags']) if isinstance(row['tags'], list) else row['tags']}\")\n",
    "        print(f\"Ingredients: {', '.join(row['ingredients']) if isinstance(row['ingredients'], list) else row['ingredients']}\")\n",
    "        print(f\"Steps: {' '.join(row['steps']) if isinstance(row['steps'], list) else row['steps']}\")\n",
    "        print(f\"CF Score: {row['cf_score']:.2f}\")\n",
    "        print(f\"Final Score: {row['final_score']:.2f}\")\n",
    "        print(\"-\" * 50)\n",
    "\n",
    "    return top_recipes\n"
   ]
  },
  {
   "cell_type": "code",
   "execution_count": 170,
   "metadata": {},
   "outputs": [
    {
     "name": "stdout",
     "output_type": "stream",
     "text": [
      "No reviews found for this user. Using only ingredient and CF-based recommendations.\n",
      "\n",
      "Top 10 Suggested Recipes:\n",
      "\n",
      "Recipe Name: creamy chickpea curry\n",
      "Recipe ID: 205289\n",
      "Preparation Time: 25 minutes\n",
      "Tags: curries, 30-minutes-or-less, time-to-make, course, main-ingredient, cuisine, preparation, occasion, main-dish, beans, rice, asian, indian, easy, vegan, vegetarian, dietary, spicy, inexpensive, chick-peas-garbanzos, pasta-rice-and-grains, taste-mood, savory\n",
      "Ingredients: oil, onion, garliccloves, redcurrypaste, chickpeas, coconutmilk, soysauce, tomatoes, brownsugar, freshlimejuice, freshbasil, cookedjasminerice\n",
      "Steps: heat oil in a large skillet over a medium high heat add onions and cook until they start to brown add garlic and curry stir-fry until garlic is soft and curry dissolved add chickpeas , coconut milk , and soy sauce bring to a boil and simmer 10 minutes add tomatoes , sugar , and lime juice simmer for 5 minutes stir in basil or cilantro until combined , and serve over rice\n",
      "CF Score: 4.72\n",
      "Final Score: 2.43\n",
      "--------------------------------------------------\n",
      "Recipe Name: spicy tomato egg curry\n",
      "Recipe ID: 245119\n",
      "Preparation Time: 25 minutes\n",
      "Tags: 30-minutes-or-less, time-to-make, course, main-ingredient, cuisine, preparation, occasion, side-dishes, eggs-dairy, vegetables, asian, indian, easy, dinner-party, vegetarian, eggs, dietary, low-calorie, comfort-food, low-carb, low-in-something, tomatoes, taste-mood\n",
      "Ingredients: eggs, tomatoes, onion, chilipowder, turmeric, salt, oliveoil\n",
      "Steps: fry onions in oil till translucent add tomatoes , chili powder , turmeric , and salt simmer till tomatoes are soft adding water as necessary add boiled egg halves cook another couple minutes\n",
      "CF Score: 4.53\n",
      "Final Score: 2.40\n",
      "--------------------------------------------------\n",
      "Recipe Name: kachoomber  refreshing tomato salad\n",
      "Recipe ID: 137329\n",
      "Preparation Time: 8 minutes\n",
      "Tags: 15-minutes-or-less, time-to-make, course, main-ingredient, cuisine, preparation, salads, side-dishes, vegetables, asian, indian, easy, vegetarian, dietary, inexpensive, onions, tomatoes\n",
      "Ingredients: cuminseed, oliveoil, redwinevinegar, lemonjuice, garliccloves, onionrings, tomatoes, cucumber, groundblackpepper, salt, freshmintleaves\n",
      "Steps: heat a small skillet over med-high heat add the cummin seeds and toast stirring constanly for 20-30 seconds transfer to a plate and allow to cool in a large salad bowl , whisk the oil , vinegar , and lemon juice until blended add the garlic , onion , tomatoes , cucumber , pepper and salt to taste: toss very well sprinkle with the cumin seeds and mint , toss well , toss again , and serve\n",
      "CF Score: 4.68\n",
      "Final Score: 2.39\n",
      "--------------------------------------------------\n",
      "Recipe Name: saagwalla dhall\n",
      "Recipe ID: 205895\n",
      "Preparation Time: 30 minutes\n",
      "Tags: 30-minutes-or-less, time-to-make, course, main-ingredient, cuisine, preparation, low-protein, side-dishes, beans, asian, indian, vegetarian, dietary, low-calorie, low-carb, lentils, low-in-something\n",
      "Ingredients: lentils, ghee, onion, freshgreenchile, cinnamonsticks, turmeric, garammasala, chilipowder, salt, groundcumin, tomatoes, water, oil, blackmustardseeds, driedredchilies, garliccloves, frozenspinach\n",
      "Steps: melt the ghee in a large pan and fry the onions , green chilli and cinnamon till the onions are lightly browned add the turmeric and garam masala , stir and add the lentils , chilli powder and salt add the cumin and tomato and cook for 5 minutes add just enough water to prevent the lentils sticking to the pan cook for 5 minutes in a small pan heat the oil and fry the mustard seeds and garlic for 2 minutes add the spinach and dried red chillies cover the pan and cook for 3 minutes mix the spinach with the dhall and serve this dish freezes well in you have any left over\n",
      "CF Score: 4.43\n",
      "Final Score: 2.39\n",
      "--------------------------------------------------\n",
      "Recipe Name: cauliflower curry\n",
      "Recipe ID: 485109\n",
      "Preparation Time: 27 minutes\n",
      "Tags: 30-minutes-or-less, time-to-make, course, main-ingredient, cuisine, preparation, low-protein, side-dishes, vegetables, indian, vegan, vegetarian, dietary, low-sodium, low-cholesterol, low-saturated-fat, low-calorie, low-carb, healthy-2, low-in-something, cauliflower\n",
      "Ingredients: oil, tomatoes, cauliflower, onion, cuminseed, chilipowder, cilantro\n",
      "Steps: heat the oil in the pan and put tomatoes , cauliflower , onion and cumin seeds in the oil place the lid on the pan , until the cauliflower is cooked , about 15 minutes add salt and chilli powder to taste garnish with cilantro\n",
      "CF Score: 4.56\n",
      "Final Score: 2.38\n",
      "--------------------------------------------------\n",
      "Recipe Name: vegetarian mulligatawny soup\n",
      "Recipe ID: 45500\n",
      "Preparation Time: 30 minutes\n",
      "Tags: 30-minutes-or-less, time-to-make, course, cuisine, preparation, occasion, main-dish, soups-stews, asian, indian, easy, european, vegan, vegetarian, english, stove-top, dietary, spicy, one-dish-meal, comfort-food, taste-mood, equipment\n",
      "Ingredients: onion, celery, vegetableoil, chili, turmeric, coriander, vegetablestock, salt, carrot, potato, redbellpeppers, tomatoes, coconut, coconutmilk, lemonjuice, cilantro\n",
      "Steps: in a soup pot , saute the onions in the ghee for 5 minutes add chili , turmeric and coriander saute for 2 to 3 minutes , stirring add the stock and the vegetables simmer for 10 to 15 minutes , until veggies are tender add the coconut , coconut milk and cook for a further 5 minutes remove from heat and let cool for a few minutes add lemon juice and cilantro the longer this soup sits , the better its flavor re-heat gently before serving\n",
      "CF Score: 4.63\n",
      "Final Score: 2.38\n",
      "--------------------------------------------------\n",
      "Recipe Name: munch without guilt  tomatoes\n",
      "Recipe ID: 30300\n",
      "Preparation Time: 10 minutes\n",
      "Tags: 15-minutes-or-less, time-to-make, course, main-ingredient, cuisine, preparation, occasion, low-protein, healthy, 5-ingredients-or-less, appetizers, salads, vegetables, asian, indian, easy, no-cook, beginner-cook, diabetic, dinner-party, holiday-event, kid-friendly, low-fat, picnic, vegetarian, dietary, low-sodium, low-cholesterol, low-saturated-fat, low-calorie, comfort-food, low-carb, healthy-2, low-in-something, taste-mood, to-go, number-of-servings, 3-steps-or-less, technique\n",
      "Ingredients: tomatoes, crackers, mayonnaise, blackpepper\n",
      "Steps: put a slice of tomato on each biscuit / cracker smear with little mayo and sprinkle black pepper munch without guilt !\n",
      "CF Score: 4.58\n",
      "Final Score: 2.37\n",
      "--------------------------------------------------\n",
      "Recipe Name: jhal muri\n",
      "Recipe ID: 486825\n",
      "Preparation Time: 10 minutes\n",
      "Tags: 15-minutes-or-less, time-to-make, cuisine, preparation, for-1-or-2, indian, easy, vegetarian, dietary, number-of-servings\n",
      "Ingredients: puffedricecereal, noodles, roastedpeanuts, lentils, tomatoes, cucumber, mungbeansprouts, freshgingerroot, onion, freshcilantro, freshcorianderleaves, coconutmeat, tamarindpaste, freshlimejuice, chatmasala, garammasala, mustardoil\n",
      "Steps: mix puffed rice , peanuts , chickpea flour noodles , and fried lentils together in a pot add tomato , cucumber , mung beans sprouts , ginger , mild onion , coconut , cilantro , and coriander add tamarind sauce , lime juice , chat masala , garam masala and mustard oil mix well serve in a bowl or a cone made from newspaper eat with a spoon\n",
      "CF Score: 4.46\n",
      "Final Score: 2.37\n",
      "--------------------------------------------------\n",
      "Recipe Name: indian chana masala\n",
      "Recipe ID: 266068\n",
      "Preparation Time: 20 minutes\n",
      "Tags: curries, 30-minutes-or-less, time-to-make, course, cuisine, preparation, main-dish, asian, indian, vegetarian, food-processor-blender, stove-top, dietary, inexpensive, equipment, small-appliance\n",
      "Ingredients: chickpeas, onion, tomatoes, greenchilipepper, garliccloves, gingerroot, bayleaves, redchilipowder, turmericpowder, corianderpowder, garammasalapowder, oliveoil, corianderleaves\n",
      "Steps: cut onion , tomato and green chili grind it in food processor along with ginger and garlic and make paste heat oil in a pan and fry bay leaves for 30 secs add the paste and fry on medium heat until golden brown add red chili powder , turmeric powder , coriander powder , garam masala and salt mix well fry for 2-3 minutes add water enough to make thick gravy bring the gravy to boil add can chick peas stir well and cook over medium heat for 5-7 minutes garnish with chopped green coriander leaves and serve hot\n",
      "CF Score: 4.59\n",
      "Final Score: 2.36\n",
      "--------------------------------------------------\n",
      "Recipe Name: low fat red pepper hummus\n",
      "Recipe ID: 69639\n",
      "Preparation Time: 10 minutes\n",
      "Tags: 15-minutes-or-less, time-to-make, course, main-ingredient, cuisine, preparation, healthy, appetizers, beans, asian, greek, indian, european, vegetarian, dips, spreads, food-processor-blender, dietary, low-cholesterol, low-saturated-fat, chick-peas-garbanzos, low-in-something, equipment, small-appliance\n",
      "Ingredients: chickpeas, tahini, lemonjuice, garlic, roastedredpepper, cumin, coriander, cayenne, salt, freshgroundpepper\n",
      "Steps: drain& rinse chick peas / garbanzos , reserving liquid in small bowl , combine cumin , coriander , cayenne , & salt , mixing throughly put garbanzo beans / chick peas in bowl of food processor with chopping blade , & sprinkle the spice mixture over the top evenly add the tahini , lemon juice , garlic , & roasted red peppers , and blend until well mixed add the fresh ground pepper once the hummus gets smooth , add some of the reserved liquid from the chick peas / garbanzos while it is being processed , until it reaches the desired consistency serve with toasted pita bread or as a dip or spread with almost anything have fun with this basic recipe- you can change the amounts or even the actual spices used to change the flavor of this healthy dip please share your discoveries !\n",
      "CF Score: 4.71\n",
      "Final Score: 2.35\n",
      "--------------------------------------------------\n"
     ]
    },
    {
     "data": {
      "text/html": [
       "<div>\n",
       "<style scoped>\n",
       "    .dataframe tbody tr th:only-of-type {\n",
       "        vertical-align: middle;\n",
       "    }\n",
       "\n",
       "    .dataframe tbody tr th {\n",
       "        vertical-align: top;\n",
       "    }\n",
       "\n",
       "    .dataframe thead th {\n",
       "        text-align: right;\n",
       "    }\n",
       "</style>\n",
       "<table border=\"1\" class=\"dataframe\">\n",
       "  <thead>\n",
       "    <tr style=\"text-align: right;\">\n",
       "      <th></th>\n",
       "      <th>name</th>\n",
       "      <th>id</th>\n",
       "      <th>minutes</th>\n",
       "      <th>tags</th>\n",
       "      <th>steps</th>\n",
       "      <th>ingredients</th>\n",
       "      <th>cf_score</th>\n",
       "      <th>final_score</th>\n",
       "    </tr>\n",
       "  </thead>\n",
       "  <tbody>\n",
       "    <tr>\n",
       "      <th>62722</th>\n",
       "      <td>creamy chickpea curry</td>\n",
       "      <td>205289</td>\n",
       "      <td>25</td>\n",
       "      <td>[curries, 30-minutes-or-less, time-to-make, co...</td>\n",
       "      <td>[heat oil in a large skillet over a medium hig...</td>\n",
       "      <td>[oil, onion, garliccloves, redcurrypaste, chic...</td>\n",
       "      <td>4.716172</td>\n",
       "      <td>2.428313</td>\n",
       "    </tr>\n",
       "    <tr>\n",
       "      <th>197021</th>\n",
       "      <td>spicy tomato egg curry</td>\n",
       "      <td>245119</td>\n",
       "      <td>25</td>\n",
       "      <td>[30-minutes-or-less, time-to-make, course, mai...</td>\n",
       "      <td>[fry onions in oil till translucent, add tomat...</td>\n",
       "      <td>[eggs, tomatoes, onion, chilipowder, turmeric,...</td>\n",
       "      <td>4.528889</td>\n",
       "      <td>2.400625</td>\n",
       "    </tr>\n",
       "    <tr>\n",
       "      <th>116108</th>\n",
       "      <td>kachoomber  refreshing tomato salad</td>\n",
       "      <td>137329</td>\n",
       "      <td>8</td>\n",
       "      <td>[15-minutes-or-less, time-to-make, course, mai...</td>\n",
       "      <td>[heat a small skillet over med-high heat, add ...</td>\n",
       "      <td>[cuminseed, oliveoil, redwinevinegar, lemonjui...</td>\n",
       "      <td>4.684220</td>\n",
       "      <td>2.392127</td>\n",
       "    </tr>\n",
       "    <tr>\n",
       "      <th>178359</th>\n",
       "      <td>saagwalla dhall</td>\n",
       "      <td>205895</td>\n",
       "      <td>30</td>\n",
       "      <td>[30-minutes-or-less, time-to-make, course, mai...</td>\n",
       "      <td>[melt the ghee in a large pan and fry the onio...</td>\n",
       "      <td>[lentils, ghee, onion, freshgreenchile, cinnam...</td>\n",
       "      <td>4.429046</td>\n",
       "      <td>2.391030</td>\n",
       "    </tr>\n",
       "    <tr>\n",
       "      <th>37740</th>\n",
       "      <td>cauliflower curry</td>\n",
       "      <td>485109</td>\n",
       "      <td>27</td>\n",
       "      <td>[30-minutes-or-less, time-to-make, course, mai...</td>\n",
       "      <td>[heat the oil in the pan and put tomatoes , ca...</td>\n",
       "      <td>[oil, tomatoes, cauliflower, onion, cuminseed,...</td>\n",
       "      <td>4.560185</td>\n",
       "      <td>2.383317</td>\n",
       "    </tr>\n",
       "    <tr>\n",
       "      <th>222203</th>\n",
       "      <td>vegetarian mulligatawny soup</td>\n",
       "      <td>45500</td>\n",
       "      <td>30</td>\n",
       "      <td>[30-minutes-or-less, time-to-make, course, cui...</td>\n",
       "      <td>[in a soup pot , saute the onions in the ghee ...</td>\n",
       "      <td>[onion, celery, vegetableoil, chili, turmeric,...</td>\n",
       "      <td>4.634259</td>\n",
       "      <td>2.382316</td>\n",
       "    </tr>\n",
       "    <tr>\n",
       "      <th>65</th>\n",
       "      <td>munch without guilt  tomatoes</td>\n",
       "      <td>30300</td>\n",
       "      <td>10</td>\n",
       "      <td>[15-minutes-or-less, time-to-make, course, mai...</td>\n",
       "      <td>[put a slice of tomato on each biscuit / crack...</td>\n",
       "      <td>[tomatoes, crackers, mayonnaise, blackpepper]</td>\n",
       "      <td>4.575148</td>\n",
       "      <td>2.370872</td>\n",
       "    </tr>\n",
       "    <tr>\n",
       "      <th>115117</th>\n",
       "      <td>jhal muri</td>\n",
       "      <td>486825</td>\n",
       "      <td>10</td>\n",
       "      <td>[15-minutes-or-less, time-to-make, cuisine, pr...</td>\n",
       "      <td>[mix puffed rice , peanuts , chickpea flour no...</td>\n",
       "      <td>[puffedricecereal, noodles, roastedpeanuts, le...</td>\n",
       "      <td>4.458304</td>\n",
       "      <td>2.366116</td>\n",
       "    </tr>\n",
       "    <tr>\n",
       "      <th>110942</th>\n",
       "      <td>indian chana masala</td>\n",
       "      <td>266068</td>\n",
       "      <td>20</td>\n",
       "      <td>[curries, 30-minutes-or-less, time-to-make, co...</td>\n",
       "      <td>[cut onion , tomato and green chili, grind it ...</td>\n",
       "      <td>[chickpeas, onion, tomatoes, greenchilipepper,...</td>\n",
       "      <td>4.592886</td>\n",
       "      <td>2.356591</td>\n",
       "    </tr>\n",
       "    <tr>\n",
       "      <th>126688</th>\n",
       "      <td>low fat red pepper hummus</td>\n",
       "      <td>69639</td>\n",
       "      <td>10</td>\n",
       "      <td>[15-minutes-or-less, time-to-make, course, mai...</td>\n",
       "      <td>[drain&amp; rinse chick peas / garbanzos , reservi...</td>\n",
       "      <td>[chickpeas, tahini, lemonjuice, garlic, roaste...</td>\n",
       "      <td>4.707218</td>\n",
       "      <td>2.353609</td>\n",
       "    </tr>\n",
       "  </tbody>\n",
       "</table>\n",
       "</div>"
      ],
      "text/plain": [
       "                                       name      id  minutes  \\\n",
       "62722                 creamy chickpea curry  205289       25   \n",
       "197021               spicy tomato egg curry  245119       25   \n",
       "116108  kachoomber  refreshing tomato salad  137329        8   \n",
       "178359                      saagwalla dhall  205895       30   \n",
       "37740                     cauliflower curry  485109       27   \n",
       "222203         vegetarian mulligatawny soup   45500       30   \n",
       "65            munch without guilt  tomatoes   30300       10   \n",
       "115117                            jhal muri  486825       10   \n",
       "110942                  indian chana masala  266068       20   \n",
       "126688            low fat red pepper hummus   69639       10   \n",
       "\n",
       "                                                     tags  \\\n",
       "62722   [curries, 30-minutes-or-less, time-to-make, co...   \n",
       "197021  [30-minutes-or-less, time-to-make, course, mai...   \n",
       "116108  [15-minutes-or-less, time-to-make, course, mai...   \n",
       "178359  [30-minutes-or-less, time-to-make, course, mai...   \n",
       "37740   [30-minutes-or-less, time-to-make, course, mai...   \n",
       "222203  [30-minutes-or-less, time-to-make, course, cui...   \n",
       "65      [15-minutes-or-less, time-to-make, course, mai...   \n",
       "115117  [15-minutes-or-less, time-to-make, cuisine, pr...   \n",
       "110942  [curries, 30-minutes-or-less, time-to-make, co...   \n",
       "126688  [15-minutes-or-less, time-to-make, course, mai...   \n",
       "\n",
       "                                                    steps  \\\n",
       "62722   [heat oil in a large skillet over a medium hig...   \n",
       "197021  [fry onions in oil till translucent, add tomat...   \n",
       "116108  [heat a small skillet over med-high heat, add ...   \n",
       "178359  [melt the ghee in a large pan and fry the onio...   \n",
       "37740   [heat the oil in the pan and put tomatoes , ca...   \n",
       "222203  [in a soup pot , saute the onions in the ghee ...   \n",
       "65      [put a slice of tomato on each biscuit / crack...   \n",
       "115117  [mix puffed rice , peanuts , chickpea flour no...   \n",
       "110942  [cut onion , tomato and green chili, grind it ...   \n",
       "126688  [drain& rinse chick peas / garbanzos , reservi...   \n",
       "\n",
       "                                              ingredients  cf_score  \\\n",
       "62722   [oil, onion, garliccloves, redcurrypaste, chic...  4.716172   \n",
       "197021  [eggs, tomatoes, onion, chilipowder, turmeric,...  4.528889   \n",
       "116108  [cuminseed, oliveoil, redwinevinegar, lemonjui...  4.684220   \n",
       "178359  [lentils, ghee, onion, freshgreenchile, cinnam...  4.429046   \n",
       "37740   [oil, tomatoes, cauliflower, onion, cuminseed,...  4.560185   \n",
       "222203  [onion, celery, vegetableoil, chili, turmeric,...  4.634259   \n",
       "65          [tomatoes, crackers, mayonnaise, blackpepper]  4.575148   \n",
       "115117  [puffedricecereal, noodles, roastedpeanuts, le...  4.458304   \n",
       "110942  [chickpeas, onion, tomatoes, greenchilipepper,...  4.592886   \n",
       "126688  [chickpeas, tahini, lemonjuice, garlic, roaste...  4.707218   \n",
       "\n",
       "        final_score  \n",
       "62722      2.428313  \n",
       "197021     2.400625  \n",
       "116108     2.392127  \n",
       "178359     2.391030  \n",
       "37740      2.383317  \n",
       "222203     2.382316  \n",
       "65         2.370872  \n",
       "115117     2.366116  \n",
       "110942     2.356591  \n",
       "126688     2.353609  "
      ]
     },
     "execution_count": 170,
     "metadata": {},
     "output_type": "execute_result"
    }
   ],
   "source": [
    "#example user case - Jane for evaluation\n",
    "user_ingredients = ['tomatoes', 'onion', 'lentils']\n",
    "cuisine_preferences = ['indian']\n",
    "dietary_restrictions = ['vegetarian']\n",
    "max_time = 30\n",
    "\t\n",
    "\n",
    "suggest_recipes_hybrid(user_ingredients, user_id= None, alpha=0.5, beta=0.5, max_time=max_time, dietary_restrictions=dietary_restrictions, cuisine_preferences=cuisine_preferences)"
   ]
  }
 ],
 "metadata": {
  "kernelspec": {
   "display_name": "Python 3 (ipykernel)",
   "language": "python",
   "name": "python3"
  },
  "language_info": {
   "codemirror_mode": {
    "name": "ipython",
    "version": 3
   },
   "file_extension": ".py",
   "mimetype": "text/x-python",
   "name": "python",
   "nbconvert_exporter": "python",
   "pygments_lexer": "ipython3",
   "version": "3.12.4"
  }
 },
 "nbformat": 4,
 "nbformat_minor": 4
}
